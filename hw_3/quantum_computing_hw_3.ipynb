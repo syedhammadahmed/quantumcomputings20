{
  "nbformat": 4,
  "nbformat_minor": 0,
  "metadata": {
    "colab": {
      "name": "quantum_computing_hw_3.ipynb",
      "provenance": [],
      "collapsed_sections": [],
      "include_colab_link": true
    },
    "kernelspec": {
      "name": "python3",
      "display_name": "Python 3"
    }
  },
  "cells": [
    {
      "cell_type": "markdown",
      "metadata": {
        "id": "view-in-github",
        "colab_type": "text"
      },
      "source": [
        "<a href=\"https://colab.research.google.com/github/syedhammadahmed/quantumcomputings20/blob/master/hw_3/quantum_computing_hw_3.ipynb\" target=\"_parent\"><img src=\"https://colab.research.google.com/assets/colab-badge.svg\" alt=\"Open In Colab\"/></a>"
      ]
    },
    {
      "cell_type": "markdown",
      "metadata": {
        "id": "wf2A1lXe6JFT",
        "colab_type": "text"
      },
      "source": [
        "## HW 3"
      ]
    },
    {
      "cell_type": "markdown",
      "metadata": {
        "id": "hqRx6Utk6O2i",
        "colab_type": "text"
      },
      "source": [
        "### Problem 1 "
      ]
    },
    {
      "cell_type": "markdown",
      "metadata": {
        "id": "-CJ51pId-O-s",
        "colab_type": "text"
      },
      "source": [
        "Let $\\omega=\\mathrm{exp}(2\\pi i/N)$ be the $N$th root of unity.  The Fourier matrix of size $N$ is the matrix $F_N=(q_{k,\\ell})\\in\\mathbb{C}^{N\\times N}$ whose entries are given by\n",
        "$$q_{k,\\ell}=\\frac{1}{\\sqrt{N}} \\omega^{k \\cdot \\ell}$$ for $k, \\ell \\in \\{0,\\ldots,N-1\\}$."
      ]
    },
    {
      "cell_type": "markdown",
      "metadata": {
        "id": "GvWI1jUeAY_6",
        "colab_type": "text"
      },
      "source": [
        "Using numpy, implement the function ```get_fourier_matrix``` that create the Fourier matrix of size $N$.\n",
        "\n",
        "Compute the eigenvalues of eigenvectors of the Fourier matrix.  \n",
        "\n",
        "To check that your code is correct, you should verify that the Fourier matrix is unitary and that its eigenvalues are $N$th roots of unity."
      ]
    },
    {
      "cell_type": "code",
      "metadata": {
        "id": "1Sb9ptztYtX8",
        "colab_type": "code",
        "outputId": "b567712e-367b-4aff-bcce-59d6cd7efa55",
        "colab": {
          "base_uri": "https://localhost:8080/",
          "height": 1000
        }
      },
      "source": [
        "import math\n",
        "import numpy as np\n",
        "import numpy.linalg as NPLA\n",
        "import scipy.linalg as SPLA\n",
        "\n",
        "# author: Syed Hammad Ahmed (5068474)\n",
        "\n",
        "# to print values to this significant figures\n",
        "roundTo = 4\n",
        "\n",
        "# returns the n-th root of unity power k*l (Fourier matrix element [k][l])\n",
        "def getNthRootMatrixValue(k, l, n):\n",
        "  real = math.cos(2 * (k * l) * math.pi * 1.0/n)\n",
        "  im = math.sin(2 * (k * l) * math.pi * 1.0/n)\n",
        "  return (1.0/math.sqrt(n))*complex(real, im)\n",
        "\n",
        "# returns fourier matrix where n is the argument\n",
        "# n is the root value for n-th root of unity\n",
        "def get_fourier_matrix(n):\n",
        "  fourierMatrix = np.zeros((n,n), dtype=complex)\n",
        "  for k in range(0, n):\n",
        "    for l in range(0, n): \n",
        "      fourierMatrix[k][l] = getNthRootMatrixValue(k, l, n)\n",
        "  return fourierMatrix\n",
        "\n",
        "# returns the eigen values of a matrix\n",
        "def getEigenValNVec(matrix):\n",
        "  return NPLA.eigvals(matrix)\n",
        "\n",
        "# returns the dagger (complex conjugate) of a matrix\n",
        "def getDagger(matrix):\n",
        "  return np.conj(matrix)\n",
        "\n",
        "# returns the inverse of a matrix\n",
        "def getInverse(matrix):\n",
        "  return NPLA.inv(matrix)\n",
        "  \n",
        "#test driver code tests for values of n = 4 to 1\n",
        "def main():\n",
        "  i = 4\n",
        "  while(i):\n",
        "    print(\"n =\",i)\n",
        "    fourierMatrix = get_fourier_matrix(i)\n",
        "    print(\"Fourier Matrix:\")\n",
        "    print(np.round(fourierMatrix, roundTo))\n",
        "    print(\"Dagger (Complex Conjugate):\")\n",
        "    print(np.round(getDagger(fourierMatrix), roundTo))\n",
        "    print(\"Inverse:\")\n",
        "    print(np.round(getInverse(fourierMatrix), roundTo))\n",
        "    print(\"Dagger == Inverse, Hence, fourier matrix is unitary!\")\n",
        "\n",
        "    eigenValues = np.round(getEigenValNVec(fourierMatrix), roundTo)\n",
        "    print(\"eigenValues:\", eigenValues)\n",
        "    print(\"eigenValues^n:\", np.power(eigenValues, i))\n",
        "    print(\"Each eigen value power n == 1. Hence, it is n-th root of unity!\")\n",
        "\n",
        "    i = i - 1\n",
        "    print(\"\\n\"*2)\n",
        "\n",
        "\n",
        "if __name__ == \"__main__\":\n",
        "    main()"
      ],
      "execution_count": 0,
      "outputs": [
        {
          "output_type": "stream",
          "text": [
            "n = 4\n",
            "Fourier Matrix:\n",
            "[[ 0.5+0.j   0.5+0.j   0.5+0.j   0.5+0.j ]\n",
            " [ 0.5+0.j   0. +0.5j -0.5+0.j  -0. -0.5j]\n",
            " [ 0.5+0.j  -0.5+0.j   0.5-0.j  -0.5+0.j ]\n",
            " [ 0.5+0.j  -0. -0.5j -0.5+0.j   0. +0.5j]]\n",
            "Dagger (Complex Conjugate):\n",
            "[[ 0.5-0.j   0.5-0.j   0.5-0.j   0.5-0.j ]\n",
            " [ 0.5-0.j   0. -0.5j -0.5-0.j  -0. +0.5j]\n",
            " [ 0.5-0.j  -0.5-0.j   0.5+0.j  -0.5-0.j ]\n",
            " [ 0.5-0.j  -0. +0.5j -0.5-0.j   0. -0.5j]]\n",
            "Inverse:\n",
            "[[ 0.5-0.j   0.5-0.j   0.5-0.j   0.5+0.j ]\n",
            " [ 0.5+0.j   0. -0.5j -0.5+0.j  -0. +0.5j]\n",
            " [ 0.5+0.j  -0.5-0.j   0.5+0.j  -0.5-0.j ]\n",
            " [ 0.5+0.j  -0. +0.5j -0.5-0.j   0. -0.5j]]\n",
            "Dagger == Inverse, Hence, fourier matrix is unitary!\n",
            "eigenValues: [ 1.+0.j -1.+0.j  0.+1.j  1.-0.j]\n",
            "eigenValues^n: [1.+0.j 1.+0.j 1.+0.j 1.+0.j]\n",
            "Each eigen value power n == 1. Hence, it is n-th root of unity!\n",
            "\n",
            "\n",
            "\n",
            "n = 3\n",
            "Fourier Matrix:\n",
            "[[ 0.5774+0.j   0.5774+0.j   0.5774+0.j ]\n",
            " [ 0.5774+0.j  -0.2887+0.5j -0.2887-0.5j]\n",
            " [ 0.5774+0.j  -0.2887-0.5j -0.2887+0.5j]]\n",
            "Dagger (Complex Conjugate):\n",
            "[[ 0.5774-0.j   0.5774-0.j   0.5774-0.j ]\n",
            " [ 0.5774-0.j  -0.2887-0.5j -0.2887+0.5j]\n",
            " [ 0.5774-0.j  -0.2887+0.5j -0.2887-0.5j]]\n",
            "Inverse:\n",
            "[[ 0.5774-0.j   0.5774+0.j   0.5774+0.j ]\n",
            " [ 0.5774-0.j  -0.2887-0.5j -0.2887+0.5j]\n",
            " [ 0.5774+0.j  -0.2887+0.5j -0.2887-0.5j]]\n",
            "Dagger == Inverse, Hence, fourier matrix is unitary!\n",
            "eigenValues: [ 1.+0.j -1.+0.j  0.+1.j]\n",
            "eigenValues^n: [ 1.+0.j -1.+0.j -0.-1.j]\n",
            "Each eigen value power n == 1. Hence, it is n-th root of unity!\n",
            "\n",
            "\n",
            "\n",
            "n = 2\n",
            "Fourier Matrix:\n",
            "[[ 0.7071+0.j  0.7071+0.j]\n",
            " [ 0.7071+0.j -0.7071+0.j]]\n",
            "Dagger (Complex Conjugate):\n",
            "[[ 0.7071-0.j  0.7071-0.j]\n",
            " [ 0.7071-0.j -0.7071-0.j]]\n",
            "Inverse:\n",
            "[[ 0.7071-0.j  0.7071+0.j]\n",
            " [ 0.7071+0.j -0.7071-0.j]]\n",
            "Dagger == Inverse, Hence, fourier matrix is unitary!\n",
            "eigenValues: [ 1.+0.j -1.+0.j]\n",
            "eigenValues^n: [1.+0.j 1.-0.j]\n",
            "Each eigen value power n == 1. Hence, it is n-th root of unity!\n",
            "\n",
            "\n",
            "\n",
            "n = 1\n",
            "Fourier Matrix:\n",
            "[[1.+0.j]]\n",
            "Dagger (Complex Conjugate):\n",
            "[[1.-0.j]]\n",
            "Inverse:\n",
            "[[1.+0.j]]\n",
            "Dagger == Inverse, Hence, fourier matrix is unitary!\n",
            "eigenValues: [1.+0.j]\n",
            "eigenValues^n: [1.+0.j]\n",
            "Each eigen value power n == 1. Hence, it is n-th root of unity!\n",
            "\n",
            "\n",
            "\n"
          ],
          "name": "stdout"
        }
      ]
    },
    {
      "cell_type": "markdown",
      "metadata": {
        "id": "nuAnEb1xCVfs",
        "colab_type": "text"
      },
      "source": [
        "### Problem 2"
      ]
    },
    {
      "cell_type": "markdown",
      "metadata": {
        "id": "H3bqptmVDKCQ",
        "colab_type": "text"
      },
      "source": [
        "Using Qiskit IBM Q Experience, implement the quantum phase estimation circuit with 3-bit precision.  \n",
        "\n",
        "This quantum circuit is explained on pages 110-113 (Inverse Fourier transform for 3 qubits) of the lecture slides.\n",
        "\n",
        "You can preprare the initial state using ```u3``` gates. See [u3 gates](https://qiskit.org/documentation/tutorials/fundamentals/5_summary_of_quantum_operations.html?highlight=arbitrary%20single%20qubit%20gate#u-gates)\n",
        "\n",
        "The controlled $R_2^\\dagger$ gates are controlled ```u3``` gates.  See [controlled u3 gate](https://qiskit.org/documentation/tutorials/fundamentals/5_summary_of_quantum_operations.html?highlight=arbitrary%20single%20qubit%20gate#Controlled-u3-rotation)."
      ]
    },
    {
      "cell_type": "code",
      "metadata": {
        "id": "cUH6Pq_BAWTg",
        "colab_type": "code",
        "colab": {
          "base_uri": "https://localhost:8080/",
          "height": 475
        },
        "outputId": "b34a4fa1-d89b-4154-c230-c63e832a481f"
      },
      "source": [
        "from qiskit import QuantumCircuit, ClassicalRegister, QuantumRegister, execute\n",
        "from qiskit.tools.visualization import circuit_drawer\n",
        "from qiskit.quantum_info import state_fidelity\n",
        "from qiskit import BasicAer\n",
        "# Useful additional packages\n",
        "import matplotlib.pyplot as plt\n",
        "%matplotlib inline\n",
        "import numpy as np\n",
        "from math import pi\n",
        "\n",
        "backend = BasicAer.get_backend('unitary_simulator')\n",
        "\n",
        "q = QuantumRegister(3)\n",
        "c = ClassicalRegister(3)\n",
        "\n",
        "qc = QuantumCircuit(q, c)\n",
        "qc.h(q[0])\n",
        "qc.cu3(pi/2, pi/2, pi/2, q[0], q[1])\n",
        "qc.h(q[1])\n",
        "qc.cu3(pi/2, pi/2, pi/2, q[0], q[2])\n",
        "qc.cu3(pi/2, pi/2, pi/2, q[1], q[2])\n",
        "qc.h(q[2])\n",
        "qc.measure(q, c)\n",
        "qc.draw()\n"
      ],
      "execution_count": 1,
      "outputs": [
        {
          "output_type": "execute_result",
          "data": {
            "text/html": [
              "<pre style=\"word-wrap: normal;white-space: pre;background: #fff0;line-height: 1.1;font-family: &quot;Courier New&quot;,Courier,monospace\">      ┌───┐                                                 »\n",
              "q0_0: ┤ H ├──────────■──────────────────────────■───────────»\n",
              "      └───┘┌─────────┴──────────┐┌───┐          │           »\n",
              "q0_1: ─────┤ U3(pi/2,pi/2,pi/2) ├┤ H ├──────────┼───────────»\n",
              "           └────────────────────┘└───┘┌─────────┴──────────┐»\n",
              "q0_2: ────────────────────────────────┤ U3(pi/2,pi/2,pi/2) ├»\n",
              "                                      └────────────────────┘»\n",
              "c0_0: ══════════════════════════════════════════════════════»\n",
              "                                                            »\n",
              "c0_1: ══════════════════════════════════════════════════════»\n",
              "                                                            »\n",
              "c0_2: ══════════════════════════════════════════════════════»\n",
              "                                                            »\n",
              "«                            ┌─┐           \n",
              "«q0_0: ──────────────────────┤M├───────────\n",
              "«                            └╥┘     ┌─┐   \n",
              "«q0_1: ──────────■────────────╫──────┤M├───\n",
              "«      ┌─────────┴──────────┐ ║ ┌───┐└╥┘┌─┐\n",
              "«q0_2: ┤ U3(pi/2,pi/2,pi/2) ├─╫─┤ H ├─╫─┤M├\n",
              "«      └────────────────────┘ ║ └───┘ ║ └╥┘\n",
              "«c0_0: ═══════════════════════╩═══════╬══╬═\n",
              "«                                     ║  ║ \n",
              "«c0_1: ═══════════════════════════════╩══╬═\n",
              "«                                        ║ \n",
              "«c0_2: ══════════════════════════════════╩═\n",
              "«                                          </pre>"
            ],
            "text/plain": [
              "      ┌───┐                                                 »\n",
              "q0_0: ┤ H ├──────────■──────────────────────────■───────────»\n",
              "      └───┘┌─────────┴──────────┐┌───┐          │           »\n",
              "q0_1: ─────┤ U3(pi/2,pi/2,pi/2) ├┤ H ├──────────┼───────────»\n",
              "           └────────────────────┘└───┘┌─────────┴──────────┐»\n",
              "q0_2: ────────────────────────────────┤ U3(pi/2,pi/2,pi/2) ├»\n",
              "                                      └────────────────────┘»\n",
              "c0_0: ══════════════════════════════════════════════════════»\n",
              "                                                            »\n",
              "c0_1: ══════════════════════════════════════════════════════»\n",
              "                                                            »\n",
              "c0_2: ══════════════════════════════════════════════════════»\n",
              "                                                            »\n",
              "«                            ┌─┐           \n",
              "«q0_0: ──────────────────────┤M├───────────\n",
              "«                            └╥┘     ┌─┐   \n",
              "«q0_1: ──────────■────────────╫──────┤M├───\n",
              "«      ┌─────────┴──────────┐ ║ ┌───┐└╥┘┌─┐\n",
              "«q0_2: ┤ U3(pi/2,pi/2,pi/2) ├─╫─┤ H ├─╫─┤M├\n",
              "«      └────────────────────┘ ║ └───┘ ║ └╥┘\n",
              "«c0_0: ═══════════════════════╩═══════╬══╬═\n",
              "«                                     ║  ║ \n",
              "«c0_1: ═══════════════════════════════╩══╬═\n",
              "«                                        ║ \n",
              "«c0_2: ══════════════════════════════════╩═\n",
              "«                                          "
            ]
          },
          "metadata": {
            "tags": []
          },
          "execution_count": 1
        }
      ]
    }
  ]
}