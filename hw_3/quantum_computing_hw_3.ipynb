{
  "nbformat": 4,
  "nbformat_minor": 0,
  "metadata": {
    "colab": {
      "name": "quantum_computing_hw_3.ipynb",
      "provenance": [],
      "collapsed_sections": [],
      "include_colab_link": true
    },
    "kernelspec": {
      "name": "python3",
      "display_name": "Python 3"
    }
  },
  "cells": [
    {
      "cell_type": "markdown",
      "metadata": {
        "id": "view-in-github",
        "colab_type": "text"
      },
      "source": [
        "<a href=\"https://colab.research.google.com/github/syedhammadahmed/quantumcomputings20/blob/master/hw_3/quantum_computing_hw_3.ipynb\" target=\"_parent\"><img src=\"https://colab.research.google.com/assets/colab-badge.svg\" alt=\"Open In Colab\"/></a>"
      ]
    },
    {
      "cell_type": "markdown",
      "metadata": {
        "id": "wf2A1lXe6JFT",
        "colab_type": "text"
      },
      "source": [
        "## HW 3"
      ]
    },
    {
      "cell_type": "markdown",
      "metadata": {
        "id": "hqRx6Utk6O2i",
        "colab_type": "text"
      },
      "source": [
        "### Problem 1 "
      ]
    },
    {
      "cell_type": "markdown",
      "metadata": {
        "id": "86pEeMyJZTaB",
        "colab_type": "text"
      },
      "source": [
        "**Fourier matrix**"
      ]
    },
    {
      "cell_type": "markdown",
      "metadata": {
        "id": "-CJ51pId-O-s",
        "colab_type": "text"
      },
      "source": [
        "Let $\\omega=\\mathrm{exp}(2\\pi i/N)$ be the $N$th root of unity.  The Fourier matrix of size $N$ is the matrix $F_N=(q_{k,\\ell})\\in\\mathbb{C}^{N\\times N}$ whose entries are given by\n",
        "$$q_{k,\\ell}=\\frac{1}{\\sqrt{N}} \\omega^{k \\cdot \\ell}$$ for $k, \\ell \\in \\{0,\\ldots,N-1\\}$."
      ]
    },
    {
      "cell_type": "markdown",
      "metadata": {
        "id": "GvWI1jUeAY_6",
        "colab_type": "text"
      },
      "source": [
        "Using numpy, implement the function ```get_fourier_matrix``` that creates the Fourier matrix of size $N$.\n",
        "\n",
        "Compute the eigenvalues of eigenvectors of the Fourier matrix.  \n",
        "\n",
        "To check that your code is correct, you should verify the following properties:\n",
        "\n",
        "- the Fourier matrix is unitary \n",
        "- the fourth power of $F_N^4$ is equal to the identity matrix\n",
        "- its eigenvalues are $1, i, -1, -i$ (the multiplicities of these eigenvalues are given on the wikipedia page [discrete fourier transform](https://en.wikipedia.org/wiki/Discrete_Fourier_transform) in section *eigenvalues and eigenvectors*)"
      ]
    },
    {
      "cell_type": "markdown",
      "metadata": {
        "id": "8p8OpYseZmse",
        "colab_type": "text"
      },
      "source": [
        "**Cyclic shift matrix**"
      ]
    },
    {
      "cell_type": "markdown",
      "metadata": {
        "id": "EdU_Ai9JZ4tu",
        "colab_type": "text"
      },
      "source": [
        "The cyclic shift matrix is the matrix $P_N=(p_{k,\\ell}\\in\\mathbb{C}^{N\\times N}$ whose entries are given by\n",
        "\n",
        "$$ p_{k,\\ell} = 1 \\mbox{ if } \\ell = k + 1 \\pmod{N} $$\n",
        "\n",
        "$$ p_{k,\\ell} = 0 \\mbox{ if } \\ell \\neq k + 1 \\pmod{N} $$"
      ]
    },
    {
      "cell_type": "markdown",
      "metadata": {
        "id": "Pj_wzC70avuv",
        "colab_type": "text"
      },
      "source": [
        "Using numpy, implement the function ```get_cyclic_shift_matrix``` that create the cyclic shift matrix of size $N$.\n",
        "\n",
        "Compute the eigenvalues of $P_N$.\n",
        "\n",
        "To show that your code is correct, you should verify the following properties:\n",
        "\n",
        "- the cyclic shift matrix is unitary\n",
        "- the $N$th power of the cyclic shift matrix is the identity matrix\n",
        "- the eigenvalues of the cyclic shift matrix are $N$th roots of unity\n",
        "- the cyclic shift matrix is diagonalized by the Fourier matrix, that is, $F_N^\\dagger P_N F_N$ is diagonal."
      ]
    },
    {
      "cell_type": "code",
      "metadata": {
        "id": "pcYvo7hzY6ei",
        "colab_type": "code",
        "colab": {
          "base_uri": "https://localhost:8080/",
          "height": 1000
        },
        "outputId": "a68f4f12-36ee-4c79-b710-3c223e75eeb5"
      },
      "source": [
        "import math\n",
        "import numpy as np\n",
        "import numpy.linalg as NPLA\n",
        "import scipy.linalg as SPLA\n",
        "\n",
        "# author: Syed Hammad Ahmed (5068474)\n",
        "\n",
        "# to print values to this significant figures\n",
        "roundTo = 4\n",
        "\n",
        "# returns the n-th root of unity power k*l (Fourier matrix element [k][l])\n",
        "def getNthRootMatrixValue(k, l, n):\n",
        "  real = math.cos(2 * (k * l) * math.pi * 1.0/n)\n",
        "  im = math.sin(2 * (k * l) * math.pi * 1.0/n)\n",
        "  return (1.0/math.sqrt(n))*complex(real, im)\n",
        "\n",
        "# returns fourier matrix where n is the argument\n",
        "# n is the root value for n-th root of unity\n",
        "def get_fourier_matrix(n):\n",
        "  fourierMatrix = np.zeros((n,n), dtype=complex)\n",
        "  for k in range(0, n):\n",
        "    for l in range(0, n): \n",
        "      fourierMatrix[k][l] = getNthRootMatrixValue(k, l, n)\n",
        "  return fourierMatrix\n",
        "\n",
        "# returns the eigen values of a matrix\n",
        "def getEigenValNVec(matrix):\n",
        "  return NPLA.eigvals(matrix)\n",
        "\n",
        "# returns the dagger (complex conjugate) of a matrix\n",
        "def getDagger(matrix):\n",
        "  return np.conj(matrix)\n",
        "\n",
        "# returns the inverse of a matrix\n",
        "def getInverse(matrix):\n",
        "  return NPLA.inv(matrix)\n",
        "  \n",
        "#test driver code tests for values of n = 4 to 1\n",
        "def main():\n",
        "  i = 4\n",
        "  while(i):\n",
        "    print(\"n =\",i)\n",
        "    fourierMatrix = get_fourier_matrix(i)\n",
        "    print(\"Fourier Matrix:\")\n",
        "    print(np.round(fourierMatrix, roundTo))\n",
        "    print(\"Dagger (Complex Conjugate):\")\n",
        "    print(np.round(getDagger(fourierMatrix), roundTo))\n",
        "    print(\"Inverse:\")\n",
        "    print(np.round(getInverse(fourierMatrix), roundTo))\n",
        "    print(\"Dagger == Inverse, Hence, fourier matrix is unitary!\")\n",
        "\n",
        "    eigenValues = np.round(getEigenValNVec(fourierMatrix), roundTo)\n",
        "    print(\"eigenValues:\", eigenValues)\n",
        "    print(\"eigenValues^n:\", np.power(eigenValues, i))\n",
        "    print(\"Each eigen value power n == 1. Hence, it is n-th root of unity!\")\n",
        "\n",
        "    i = i - 1\n",
        "    print(\"\\n\"*2)\n",
        "\n",
        "\n",
        "if __name__ == \"__main__\":\n",
        "    main()"
      ],
      "execution_count": 1,
      "outputs": [
        {
          "output_type": "stream",
          "text": [
            "n = 4\n",
            "Fourier Matrix:\n",
            "[[ 0.5+0.j   0.5+0.j   0.5+0.j   0.5+0.j ]\n",
            " [ 0.5+0.j   0. +0.5j -0.5+0.j  -0. -0.5j]\n",
            " [ 0.5+0.j  -0.5+0.j   0.5-0.j  -0.5+0.j ]\n",
            " [ 0.5+0.j  -0. -0.5j -0.5+0.j   0. +0.5j]]\n",
            "Dagger (Complex Conjugate):\n",
            "[[ 0.5-0.j   0.5-0.j   0.5-0.j   0.5-0.j ]\n",
            " [ 0.5-0.j   0. -0.5j -0.5-0.j  -0. +0.5j]\n",
            " [ 0.5-0.j  -0.5-0.j   0.5+0.j  -0.5-0.j ]\n",
            " [ 0.5-0.j  -0. +0.5j -0.5-0.j   0. -0.5j]]\n",
            "Inverse:\n",
            "[[ 0.5-0.j   0.5-0.j   0.5-0.j   0.5+0.j ]\n",
            " [ 0.5+0.j   0. -0.5j -0.5+0.j  -0. +0.5j]\n",
            " [ 0.5+0.j  -0.5-0.j   0.5+0.j  -0.5-0.j ]\n",
            " [ 0.5+0.j  -0. +0.5j -0.5-0.j   0. -0.5j]]\n",
            "Dagger == Inverse, Hence, fourier matrix is unitary!\n",
            "eigenValues: [ 1.+0.j -1.+0.j  0.+1.j  1.-0.j]\n",
            "eigenValues^n: [1.+0.j 1.+0.j 1.+0.j 1.+0.j]\n",
            "Each eigen value power n == 1. Hence, it is n-th root of unity!\n",
            "\n",
            "\n",
            "\n",
            "n = 3\n",
            "Fourier Matrix:\n",
            "[[ 0.5774+0.j   0.5774+0.j   0.5774+0.j ]\n",
            " [ 0.5774+0.j  -0.2887+0.5j -0.2887-0.5j]\n",
            " [ 0.5774+0.j  -0.2887-0.5j -0.2887+0.5j]]\n",
            "Dagger (Complex Conjugate):\n",
            "[[ 0.5774-0.j   0.5774-0.j   0.5774-0.j ]\n",
            " [ 0.5774-0.j  -0.2887-0.5j -0.2887+0.5j]\n",
            " [ 0.5774-0.j  -0.2887+0.5j -0.2887-0.5j]]\n",
            "Inverse:\n",
            "[[ 0.5774-0.j   0.5774+0.j   0.5774+0.j ]\n",
            " [ 0.5774-0.j  -0.2887-0.5j -0.2887+0.5j]\n",
            " [ 0.5774+0.j  -0.2887+0.5j -0.2887-0.5j]]\n",
            "Dagger == Inverse, Hence, fourier matrix is unitary!\n",
            "eigenValues: [ 1.+0.j -1.+0.j  0.+1.j]\n",
            "eigenValues^n: [ 1.+0.j -1.+0.j -0.-1.j]\n",
            "Each eigen value power n == 1. Hence, it is n-th root of unity!\n",
            "\n",
            "\n",
            "\n",
            "n = 2\n",
            "Fourier Matrix:\n",
            "[[ 0.7071+0.j  0.7071+0.j]\n",
            " [ 0.7071+0.j -0.7071+0.j]]\n",
            "Dagger (Complex Conjugate):\n",
            "[[ 0.7071-0.j  0.7071-0.j]\n",
            " [ 0.7071-0.j -0.7071-0.j]]\n",
            "Inverse:\n",
            "[[ 0.7071-0.j  0.7071+0.j]\n",
            " [ 0.7071+0.j -0.7071-0.j]]\n",
            "Dagger == Inverse, Hence, fourier matrix is unitary!\n",
            "eigenValues: [ 1.+0.j -1.+0.j]\n",
            "eigenValues^n: [1.+0.j 1.-0.j]\n",
            "Each eigen value power n == 1. Hence, it is n-th root of unity!\n",
            "\n",
            "\n",
            "\n",
            "n = 1\n",
            "Fourier Matrix:\n",
            "[[1.+0.j]]\n",
            "Dagger (Complex Conjugate):\n",
            "[[1.-0.j]]\n",
            "Inverse:\n",
            "[[1.+0.j]]\n",
            "Dagger == Inverse, Hence, fourier matrix is unitary!\n",
            "eigenValues: [1.+0.j]\n",
            "eigenValues^n: [1.+0.j]\n",
            "Each eigen value power n == 1. Hence, it is n-th root of unity!\n",
            "\n",
            "\n",
            "\n"
          ],
          "name": "stdout"
        }
      ]
    },
    {
      "cell_type": "markdown",
      "metadata": {
        "id": "nuAnEb1xCVfs",
        "colab_type": "text"
      },
      "source": [
        "### Problem 2"
      ]
    },
    {
      "cell_type": "markdown",
      "metadata": {
        "id": "H3bqptmVDKCQ",
        "colab_type": "text"
      },
      "source": [
        "Using Qiskit IBM Q Experience, implement the quantum phase estimation circuit with 3-bit precision.  \n",
        "\n",
        "This quantum circuit is explained on pages 110-113 (Inverse Fourier transform for 3 qubits) of the lecture slides.\n",
        "\n",
        "Write a function that create the state\n",
        "\n",
        "$$ \n",
        "\\frac{1}{\\sqrt{2}} ( |0\\rangle + e^{2\\pi i 2^2 \\varphi} |1\\rangle ) \\otimes \n",
        "\\frac{1}{\\sqrt{2}} ( |0\\rangle + e^{2\\pi i 2^1 \\varphi} |1\\rangle ) \\otimes \n",
        "\\frac{1}{\\sqrt{2}} ( |0\\rangle + e^{2\\pi i 2^0 \\varphi} |1\\rangle ) \n",
        "$$\n",
        "\n",
        "for arbitrary $\\varphi\\in [0,1)$. \n",
        "\n",
        "(This is the state that we would obtain by \n",
        "- preparing the three control bits in the $|+\\rangle$ state \n",
        "- applying the control power of $U^{2^2}, U^{2^1}, U^{2^0}$ gates\n",
        "\n",
        "assuming that the target qubit is in state $|\\psi\\rangle$ and $U|\\psi\\rangle=e^{2 \\pi i \\varphi} |\\psi\\rangle$.)\n",
        "\n",
        "You can preprare the initial state applying ```U1``` gates on qubits prepared $|+\\rangle$. See [Qiskit U1 gate documentation](https://qiskit.org/documentation/stubs/qiskit.extensions.U1Gate.html). \n",
        "\n",
        "The controlled $R_k^\\dagger$ gates occuring in the inverse Fourier transform circuit can be realized with the help of controlled ```U1``` gates.  "
      ]
    },
    {
      "cell_type": "code",
      "metadata": {
        "id": "T6XDgVumZjCL",
        "colab_type": "code",
        "colab": {
          "base_uri": "https://localhost:8080/",
          "height": 952
        },
        "outputId": "bf7b1d78-43cb-42ac-e73c-28577abc5340"
      },
      "source": [
        "!pip install qiskit[visualizer]"
      ],
      "execution_count": 4,
      "outputs": [
        {
          "output_type": "stream",
          "text": [
            "Requirement already satisfied: qiskit[visualizer] in /usr/local/lib/python3.6/dist-packages (0.18.3)\n",
            "\u001b[33m  WARNING: qiskit 0.18.3 does not provide the extra 'visualizer'\u001b[0m\n",
            "Requirement already satisfied: qiskit-ibmq-provider==0.6.1 in /usr/local/lib/python3.6/dist-packages (from qiskit[visualizer]) (0.6.1)\n",
            "Requirement already satisfied: qiskit-aer==0.5.1 in /usr/local/lib/python3.6/dist-packages (from qiskit[visualizer]) (0.5.1)\n",
            "Requirement already satisfied: qiskit-ignis==0.3.0 in /usr/local/lib/python3.6/dist-packages (from qiskit[visualizer]) (0.3.0)\n",
            "Requirement already satisfied: qiskit-terra==0.13.0 in /usr/local/lib/python3.6/dist-packages (from qiskit[visualizer]) (0.13.0)\n",
            "Requirement already satisfied: qiskit-aqua==0.6.6 in /usr/local/lib/python3.6/dist-packages (from qiskit[visualizer]) (0.6.6)\n",
            "Requirement already satisfied: arrow>=0.15.5 in /usr/local/lib/python3.6/dist-packages (from qiskit-ibmq-provider==0.6.1->qiskit[visualizer]) (0.15.5)\n",
            "Requirement already satisfied: websockets<8,>=7 in /usr/local/lib/python3.6/dist-packages (from qiskit-ibmq-provider==0.6.1->qiskit[visualizer]) (7.0)\n",
            "Requirement already satisfied: requests-ntlm>=1.1.0 in /usr/local/lib/python3.6/dist-packages (from qiskit-ibmq-provider==0.6.1->qiskit[visualizer]) (1.1.0)\n",
            "Requirement already satisfied: requests>=2.19 in /usr/local/lib/python3.6/dist-packages (from qiskit-ibmq-provider==0.6.1->qiskit[visualizer]) (2.21.0)\n",
            "Requirement already satisfied: nest-asyncio!=1.1.0,>=1.0.0 in /usr/local/lib/python3.6/dist-packages (from qiskit-ibmq-provider==0.6.1->qiskit[visualizer]) (1.3.2)\n",
            "Requirement already satisfied: scipy>=1.0 in /usr/local/lib/python3.6/dist-packages (from qiskit-aer==0.5.1->qiskit[visualizer]) (1.4.1)\n",
            "Requirement already satisfied: numpy>=1.16.3 in /usr/local/lib/python3.6/dist-packages (from qiskit-aer==0.5.1->qiskit[visualizer]) (1.18.3)\n",
            "Requirement already satisfied: pybind11>=2.4 in /usr/local/lib/python3.6/dist-packages (from qiskit-aer==0.5.1->qiskit[visualizer]) (2.5.0)\n",
            "Requirement already satisfied: cython>=0.27.1 in /usr/local/lib/python3.6/dist-packages (from qiskit-aer==0.5.1->qiskit[visualizer]) (0.29.16)\n",
            "Requirement already satisfied: setuptools>=40.1.0 in /usr/local/lib/python3.6/dist-packages (from qiskit-ignis==0.3.0->qiskit[visualizer]) (46.1.3)\n",
            "Requirement already satisfied: dill>=0.3 in /usr/local/lib/python3.6/dist-packages (from qiskit-terra==0.13.0->qiskit[visualizer]) (0.3.1.1)\n",
            "Requirement already satisfied: marshmallow-polyfield<6,>=5.7 in /usr/local/lib/python3.6/dist-packages (from qiskit-terra==0.13.0->qiskit[visualizer]) (5.9)\n",
            "Requirement already satisfied: psutil>=5 in /usr/local/lib/python3.6/dist-packages (from qiskit-terra==0.13.0->qiskit[visualizer]) (5.4.8)\n",
            "Requirement already satisfied: jsonschema>=2.6 in /usr/local/lib/python3.6/dist-packages (from qiskit-terra==0.13.0->qiskit[visualizer]) (2.6.0)\n",
            "Requirement already satisfied: python-constraint>=1.4 in /usr/local/lib/python3.6/dist-packages (from qiskit-terra==0.13.0->qiskit[visualizer]) (1.4.0)\n",
            "Requirement already satisfied: networkx>=2.2; python_version > \"3.5\" in /usr/local/lib/python3.6/dist-packages (from qiskit-terra==0.13.0->qiskit[visualizer]) (2.4)\n",
            "Requirement already satisfied: fastjsonschema>=2.10 in /usr/local/lib/python3.6/dist-packages (from qiskit-terra==0.13.0->qiskit[visualizer]) (2.14.4)\n",
            "Requirement already satisfied: ply>=3.10 in /usr/local/lib/python3.6/dist-packages (from qiskit-terra==0.13.0->qiskit[visualizer]) (3.11)\n",
            "Requirement already satisfied: marshmallow<4,>=3 in /usr/local/lib/python3.6/dist-packages (from qiskit-terra==0.13.0->qiskit[visualizer]) (3.5.1)\n",
            "Requirement already satisfied: sympy>=1.3 in /usr/local/lib/python3.6/dist-packages (from qiskit-terra==0.13.0->qiskit[visualizer]) (1.5.1)\n",
            "Requirement already satisfied: retworkx>=0.3.2 in /usr/local/lib/python3.6/dist-packages (from qiskit-terra==0.13.0->qiskit[visualizer]) (0.3.3)\n",
            "Requirement already satisfied: fastdtw in /usr/local/lib/python3.6/dist-packages (from qiskit-aqua==0.6.6->qiskit[visualizer]) (0.3.4)\n",
            "Requirement already satisfied: docplex in /usr/local/lib/python3.6/dist-packages (from qiskit-aqua==0.6.6->qiskit[visualizer]) (2.13.184)\n",
            "Requirement already satisfied: scikit-learn>=0.20.0 in /usr/local/lib/python3.6/dist-packages (from qiskit-aqua==0.6.6->qiskit[visualizer]) (0.22.2.post1)\n",
            "Requirement already satisfied: pyscf; sys_platform == \"linux\" or (python_version < \"3.8\" and sys_platform != \"win32\") in /usr/local/lib/python3.6/dist-packages (from qiskit-aqua==0.6.6->qiskit[visualizer]) (1.7.1)\n",
            "Requirement already satisfied: quandl in /usr/local/lib/python3.6/dist-packages (from qiskit-aqua==0.6.6->qiskit[visualizer]) (3.5.0)\n",
            "Requirement already satisfied: h5py in /usr/local/lib/python3.6/dist-packages (from qiskit-aqua==0.6.6->qiskit[visualizer]) (2.10.0)\n",
            "Requirement already satisfied: dlx in /usr/local/lib/python3.6/dist-packages (from qiskit-aqua==0.6.6->qiskit[visualizer]) (1.0.4)\n",
            "Requirement already satisfied: python-dateutil in /usr/local/lib/python3.6/dist-packages (from arrow>=0.15.5->qiskit-ibmq-provider==0.6.1->qiskit[visualizer]) (2.8.1)\n",
            "Requirement already satisfied: ntlm-auth>=1.0.2 in /usr/local/lib/python3.6/dist-packages (from requests-ntlm>=1.1.0->qiskit-ibmq-provider==0.6.1->qiskit[visualizer]) (1.4.0)\n",
            "Requirement already satisfied: cryptography>=1.3 in /usr/local/lib/python3.6/dist-packages (from requests-ntlm>=1.1.0->qiskit-ibmq-provider==0.6.1->qiskit[visualizer]) (2.9.2)\n",
            "Requirement already satisfied: certifi>=2017.4.17 in /usr/local/lib/python3.6/dist-packages (from requests>=2.19->qiskit-ibmq-provider==0.6.1->qiskit[visualizer]) (2020.4.5.1)\n",
            "Requirement already satisfied: urllib3<1.25,>=1.21.1 in /usr/local/lib/python3.6/dist-packages (from requests>=2.19->qiskit-ibmq-provider==0.6.1->qiskit[visualizer]) (1.24.3)\n",
            "Requirement already satisfied: chardet<3.1.0,>=3.0.2 in /usr/local/lib/python3.6/dist-packages (from requests>=2.19->qiskit-ibmq-provider==0.6.1->qiskit[visualizer]) (3.0.4)\n",
            "Requirement already satisfied: idna<2.9,>=2.5 in /usr/local/lib/python3.6/dist-packages (from requests>=2.19->qiskit-ibmq-provider==0.6.1->qiskit[visualizer]) (2.8)\n",
            "Requirement already satisfied: decorator>=4.3.0 in /usr/local/lib/python3.6/dist-packages (from networkx>=2.2; python_version > \"3.5\"->qiskit-terra==0.13.0->qiskit[visualizer]) (4.4.2)\n",
            "Requirement already satisfied: mpmath>=0.19 in /usr/local/lib/python3.6/dist-packages (from sympy>=1.3->qiskit-terra==0.13.0->qiskit[visualizer]) (1.1.0)\n",
            "Requirement already satisfied: six in /usr/local/lib/python3.6/dist-packages (from docplex->qiskit-aqua==0.6.6->qiskit[visualizer]) (1.12.0)\n",
            "Requirement already satisfied: joblib>=0.11 in /usr/local/lib/python3.6/dist-packages (from scikit-learn>=0.20.0->qiskit-aqua==0.6.6->qiskit[visualizer]) (0.14.1)\n",
            "Requirement already satisfied: more-itertools in /usr/local/lib/python3.6/dist-packages (from quandl->qiskit-aqua==0.6.6->qiskit[visualizer]) (8.2.0)\n",
            "Requirement already satisfied: inflection>=0.3.1 in /usr/local/lib/python3.6/dist-packages (from quandl->qiskit-aqua==0.6.6->qiskit[visualizer]) (0.4.0)\n",
            "Requirement already satisfied: pandas>=0.14 in /usr/local/lib/python3.6/dist-packages (from quandl->qiskit-aqua==0.6.6->qiskit[visualizer]) (1.0.3)\n",
            "Requirement already satisfied: cffi!=1.11.3,>=1.8 in /usr/local/lib/python3.6/dist-packages (from cryptography>=1.3->requests-ntlm>=1.1.0->qiskit-ibmq-provider==0.6.1->qiskit[visualizer]) (1.14.0)\n",
            "Requirement already satisfied: pytz>=2017.2 in /usr/local/lib/python3.6/dist-packages (from pandas>=0.14->quandl->qiskit-aqua==0.6.6->qiskit[visualizer]) (2018.9)\n",
            "Requirement already satisfied: pycparser in /usr/local/lib/python3.6/dist-packages (from cffi!=1.11.3,>=1.8->cryptography>=1.3->requests-ntlm>=1.1.0->qiskit-ibmq-provider==0.6.1->qiskit[visualizer]) (2.20)\n"
          ],
          "name": "stdout"
        }
      ]
    },
    {
      "cell_type": "code",
      "metadata": {
        "id": "cUH6Pq_BAWTg",
        "colab_type": "code",
        "outputId": "6087e75b-7901-412f-93d4-e3bc9524db36",
        "colab": {
          "base_uri": "https://localhost:8080/",
          "height": 385
        }
      },
      "source": [
        "import time\n",
        "from qiskit import ClassicalRegister, QuantumRegister\n",
        "from qiskit import QuantumCircuit,  available_backends, execute, register, get_backend\n",
        "from qiskit.tools.visualization import circuit_drawer\n",
        "from qiskit.quantum_info import state_fidelity\n",
        "from qiskit import BasicAer\n",
        "# Useful additional packages\n",
        "import matplotlib.pyplot as plt\n",
        "%matplotlib inline\n",
        "import numpy as np\n",
        "from math import pi\n",
        "\n",
        "# author: Syed Hammad Ahmed (5068474)\n",
        "\n",
        "\n",
        "\n",
        "APItoken = 'f6500d0c95014269ca779482456925bf5a3236c4da2e8b9717e7e72af1a9a80a1e6736a0b27512b5416b0c8c74e7372b855b6e6359742b7528a237b57b3f9458'\n",
        "\n",
        "qx_config = {\n",
        "    \"APItoken\": APItoken,\n",
        "    \"url\":\"https://quantumexperience.ng.bluemix.net/api\"}\n",
        "\n",
        "\n",
        "#test driver code\n",
        "def main():\n",
        "  backend = BasicAer.get_backend('unitary_simulator')\n",
        "  n = 3\n",
        "  q = QuantumRegister(n)\n",
        "  c = ClassicalRegister(n)\n",
        "\n",
        "  qc = QuantumCircuit(q, c)\n",
        "\n",
        "  qc.h(q[0])\n",
        "  qc.cu3(0, 0, -pi/2, q[0], q[1])\n",
        "  qc.h(q[1])\n",
        "  qc.cu3(0, 0, -pi/2, q[0], q[2])\n",
        "  qc.cu3(0, 0, -pi/2, q[1], q[2])\n",
        "  qc.h(q[2])\n",
        "  qc.measure(q, c)\n",
        "  qc.draw()\n",
        "\n",
        "\n",
        "if __name__ == \"__main__\":\n",
        "    main()\n"
      ],
      "execution_count": 0,
      "outputs": [
        {
          "output_type": "error",
          "ename": "AssertionError",
          "evalue": "ignored",
          "traceback": [
            "\u001b[0;31m---------------------------------------------------------------------------\u001b[0m",
            "\u001b[0;31mAssertionError\u001b[0m                            Traceback (most recent call last)",
            "\u001b[0;32m<ipython-input-6-0cf82f732a9f>\u001b[0m in \u001b[0;36m<module>\u001b[0;34m()\u001b[0m\n\u001b[0;32m----> 1\u001b[0;31m \u001b[0;32mfrom\u001b[0m \u001b[0mqiskit\u001b[0m \u001b[0;32mimport\u001b[0m \u001b[0mQuantumCircuit\u001b[0m\u001b[0;34m,\u001b[0m \u001b[0mClassicalRegister\u001b[0m\u001b[0;34m,\u001b[0m \u001b[0mQuantumRegister\u001b[0m\u001b[0;34m,\u001b[0m \u001b[0mexecute\u001b[0m\u001b[0;34m\u001b[0m\u001b[0;34m\u001b[0m\u001b[0m\n\u001b[0m\u001b[1;32m      2\u001b[0m \u001b[0;32mfrom\u001b[0m \u001b[0mqiskit\u001b[0m\u001b[0;34m.\u001b[0m\u001b[0mtools\u001b[0m\u001b[0;34m.\u001b[0m\u001b[0mvisualization\u001b[0m \u001b[0;32mimport\u001b[0m \u001b[0mcircuit_drawer\u001b[0m\u001b[0;34m\u001b[0m\u001b[0;34m\u001b[0m\u001b[0m\n\u001b[1;32m      3\u001b[0m \u001b[0;32mfrom\u001b[0m \u001b[0mqiskit\u001b[0m\u001b[0;34m.\u001b[0m\u001b[0mquantum_info\u001b[0m \u001b[0;32mimport\u001b[0m \u001b[0mstate_fidelity\u001b[0m\u001b[0;34m\u001b[0m\u001b[0;34m\u001b[0m\u001b[0m\n\u001b[1;32m      4\u001b[0m \u001b[0;32mfrom\u001b[0m \u001b[0mqiskit\u001b[0m \u001b[0;32mimport\u001b[0m \u001b[0mBasicAer\u001b[0m\u001b[0;34m\u001b[0m\u001b[0;34m\u001b[0m\u001b[0m\n\u001b[1;32m      5\u001b[0m \u001b[0;31m# Useful additional packages\u001b[0m\u001b[0;34m\u001b[0m\u001b[0;34m\u001b[0m\u001b[0;34m\u001b[0m\u001b[0m\n",
            "\u001b[0;32m/usr/local/lib/python3.6/dist-packages/qiskit/__init__.py\u001b[0m in \u001b[0;36m<module>\u001b[0;34m()\u001b[0m\n\u001b[1;32m     30\u001b[0m \u001b[0;34m\u001b[0m\u001b[0m\n\u001b[1;32m     31\u001b[0m \u001b[0;31m# The main qiskit operators\u001b[0m\u001b[0;34m\u001b[0m\u001b[0;34m\u001b[0m\u001b[0;34m\u001b[0m\u001b[0m\n\u001b[0;32m---> 32\u001b[0;31m \u001b[0;32mfrom\u001b[0m \u001b[0mqiskit\u001b[0m\u001b[0;34m.\u001b[0m\u001b[0mcircuit\u001b[0m \u001b[0;32mimport\u001b[0m \u001b[0mClassicalRegister\u001b[0m\u001b[0;34m\u001b[0m\u001b[0;34m\u001b[0m\u001b[0m\n\u001b[0m\u001b[1;32m     33\u001b[0m \u001b[0;32mfrom\u001b[0m \u001b[0mqiskit\u001b[0m\u001b[0;34m.\u001b[0m\u001b[0mcircuit\u001b[0m \u001b[0;32mimport\u001b[0m \u001b[0mQuantumRegister\u001b[0m\u001b[0;34m\u001b[0m\u001b[0;34m\u001b[0m\u001b[0m\n\u001b[1;32m     34\u001b[0m \u001b[0;32mfrom\u001b[0m \u001b[0mqiskit\u001b[0m\u001b[0;34m.\u001b[0m\u001b[0mcircuit\u001b[0m \u001b[0;32mimport\u001b[0m \u001b[0mQuantumCircuit\u001b[0m\u001b[0;34m\u001b[0m\u001b[0;34m\u001b[0m\u001b[0m\n",
            "\u001b[0;32m/usr/local/lib/python3.6/dist-packages/qiskit/circuit/__init__.py\u001b[0m in \u001b[0;36m<module>\u001b[0;34m()\u001b[0m\n\u001b[1;32m     64\u001b[0m    \u001b[0mrandom\u001b[0m\u001b[0;34m.\u001b[0m\u001b[0mrandom_circuit\u001b[0m\u001b[0;34m\u001b[0m\u001b[0;34m\u001b[0m\u001b[0m\n\u001b[1;32m     65\u001b[0m \"\"\"\n\u001b[0;32m---> 66\u001b[0;31m \u001b[0;32mfrom\u001b[0m \u001b[0;34m.\u001b[0m\u001b[0mquantumcircuit\u001b[0m \u001b[0;32mimport\u001b[0m \u001b[0mQuantumCircuit\u001b[0m\u001b[0;34m\u001b[0m\u001b[0;34m\u001b[0m\u001b[0m\n\u001b[0m\u001b[1;32m     67\u001b[0m \u001b[0;32mfrom\u001b[0m \u001b[0;34m.\u001b[0m\u001b[0mclassicalregister\u001b[0m \u001b[0;32mimport\u001b[0m \u001b[0mClassicalRegister\u001b[0m\u001b[0;34m,\u001b[0m \u001b[0mClbit\u001b[0m\u001b[0;34m\u001b[0m\u001b[0;34m\u001b[0m\u001b[0m\n\u001b[1;32m     68\u001b[0m \u001b[0;32mfrom\u001b[0m \u001b[0;34m.\u001b[0m\u001b[0mquantumregister\u001b[0m \u001b[0;32mimport\u001b[0m \u001b[0mQuantumRegister\u001b[0m\u001b[0;34m,\u001b[0m \u001b[0mQubit\u001b[0m\u001b[0;34m\u001b[0m\u001b[0;34m\u001b[0m\u001b[0m\n",
            "\u001b[0;32m/usr/local/lib/python3.6/dist-packages/qiskit/circuit/quantumcircuit.py\u001b[0m in \u001b[0;36m<module>\u001b[0;34m()\u001b[0m\n\u001b[1;32m     40\u001b[0m     \u001b[0;32mimport\u001b[0m \u001b[0mpygments\u001b[0m\u001b[0;34m\u001b[0m\u001b[0;34m\u001b[0m\u001b[0m\n\u001b[1;32m     41\u001b[0m     \u001b[0;32mfrom\u001b[0m \u001b[0mpygments\u001b[0m\u001b[0;34m.\u001b[0m\u001b[0mformatters\u001b[0m \u001b[0;32mimport\u001b[0m \u001b[0mTerminal256Formatter\u001b[0m  \u001b[0;31m# pylint: disable=no-name-in-module\u001b[0m\u001b[0;34m\u001b[0m\u001b[0;34m\u001b[0m\u001b[0m\n\u001b[0;32m---> 42\u001b[0;31m     \u001b[0;32mfrom\u001b[0m \u001b[0mqiskit\u001b[0m\u001b[0;34m.\u001b[0m\u001b[0mqasm\u001b[0m\u001b[0;34m.\u001b[0m\u001b[0mpygments\u001b[0m \u001b[0;32mimport\u001b[0m \u001b[0mOpenQASMLexer\u001b[0m  \u001b[0;31m# pylint: disable=ungrouped-imports\u001b[0m\u001b[0;34m\u001b[0m\u001b[0;34m\u001b[0m\u001b[0m\n\u001b[0m\u001b[1;32m     43\u001b[0m     \u001b[0;32mfrom\u001b[0m \u001b[0mqiskit\u001b[0m\u001b[0;34m.\u001b[0m\u001b[0mqasm\u001b[0m\u001b[0;34m.\u001b[0m\u001b[0mpygments\u001b[0m \u001b[0;32mimport\u001b[0m \u001b[0mQasmTerminalStyle\u001b[0m  \u001b[0;31m# pylint: disable=ungrouped-imports\u001b[0m\u001b[0;34m\u001b[0m\u001b[0;34m\u001b[0m\u001b[0m\n\u001b[1;32m     44\u001b[0m     \u001b[0mHAS_PYGMENTS\u001b[0m \u001b[0;34m=\u001b[0m \u001b[0;32mTrue\u001b[0m\u001b[0;34m\u001b[0m\u001b[0;34m\u001b[0m\u001b[0m\n",
            "\u001b[0;32m/usr/local/lib/python3.6/dist-packages/qiskit/qasm/__init__.py\u001b[0m in \u001b[0;36m<module>\u001b[0;34m()\u001b[0m\n\u001b[1;32m     53\u001b[0m \u001b[0;34m\u001b[0m\u001b[0m\n\u001b[1;32m     54\u001b[0m \u001b[0;32mif\u001b[0m \u001b[0mHAS_PYGMENTS\u001b[0m\u001b[0;34m:\u001b[0m\u001b[0;34m\u001b[0m\u001b[0;34m\u001b[0m\u001b[0m\n\u001b[0;32m---> 55\u001b[0;31m     \u001b[0;32mfrom\u001b[0m \u001b[0;34m.\u001b[0m\u001b[0mpygments\u001b[0m \u001b[0;32mimport\u001b[0m \u001b[0mOpenQASMLexer\u001b[0m\u001b[0;34m,\u001b[0m \u001b[0mQasmHTMLStyle\u001b[0m\u001b[0;34m,\u001b[0m \u001b[0mQasmTerminalStyle\u001b[0m\u001b[0;34m\u001b[0m\u001b[0;34m\u001b[0m\u001b[0m\n\u001b[0m",
            "\u001b[0;32m/usr/local/lib/python3.6/dist-packages/qiskit/qasm/pygments/__init__.py\u001b[0m in \u001b[0;36m<module>\u001b[0;34m()\u001b[0m\n\u001b[1;32m     34\u001b[0m \u001b[0;34m\u001b[0m\u001b[0m\n\u001b[1;32m     35\u001b[0m \u001b[0;32mif\u001b[0m \u001b[0mHAS_PYGMENTS\u001b[0m\u001b[0;34m:\u001b[0m\u001b[0;34m\u001b[0m\u001b[0;34m\u001b[0m\u001b[0m\n\u001b[0;32m---> 36\u001b[0;31m     \u001b[0;32mfrom\u001b[0m \u001b[0;34m.\u001b[0m\u001b[0mlexer\u001b[0m \u001b[0;32mimport\u001b[0m \u001b[0mOpenQASMLexer\u001b[0m\u001b[0;34m,\u001b[0m \u001b[0mQasmTerminalStyle\u001b[0m\u001b[0;34m,\u001b[0m \u001b[0mQasmHTMLStyle\u001b[0m\u001b[0;34m\u001b[0m\u001b[0;34m\u001b[0m\u001b[0m\n\u001b[0m",
            "\u001b[0;32m/usr/local/lib/python3.6/dist-packages/qiskit/qasm/pygments/lexer.py\u001b[0m in \u001b[0;36m<module>\u001b[0;34m()\u001b[0m\n\u001b[1;32m     25\u001b[0m \u001b[0;34m\u001b[0m\u001b[0m\n\u001b[1;32m     26\u001b[0m \u001b[0;34m\u001b[0m\u001b[0m\n\u001b[0;32m---> 27\u001b[0;31m \u001b[0;32mclass\u001b[0m \u001b[0mQasmTerminalStyle\u001b[0m\u001b[0;34m(\u001b[0m\u001b[0mStyle\u001b[0m\u001b[0;34m)\u001b[0m\u001b[0;34m:\u001b[0m\u001b[0;34m\u001b[0m\u001b[0;34m\u001b[0m\u001b[0m\n\u001b[0m\u001b[1;32m     28\u001b[0m     \u001b[0;34m\"\"\"A style for OpenQasm in a Terminal env (e.g. Jupyter print).\"\"\"\u001b[0m\u001b[0;34m\u001b[0m\u001b[0;34m\u001b[0m\u001b[0m\n\u001b[1;32m     29\u001b[0m     styles = {\n",
            "\u001b[0;32m/usr/local/lib/python3.6/dist-packages/pygments/style.py\u001b[0m in \u001b[0;36m__new__\u001b[0;34m(mcs, name, bases, dct)\u001b[0m\n\u001b[1;32m     74\u001b[0m                         \u001b[0mndef\u001b[0m\u001b[0;34m[\u001b[0m\u001b[0;36m8\u001b[0m\u001b[0;34m]\u001b[0m \u001b[0;34m=\u001b[0m \u001b[0;36m1\u001b[0m\u001b[0;34m\u001b[0m\u001b[0;34m\u001b[0m\u001b[0m\n\u001b[1;32m     75\u001b[0m                     \u001b[0;32melse\u001b[0m\u001b[0;34m:\u001b[0m\u001b[0;34m\u001b[0m\u001b[0;34m\u001b[0m\u001b[0m\n\u001b[0;32m---> 76\u001b[0;31m                         \u001b[0mndef\u001b[0m\u001b[0;34m[\u001b[0m\u001b[0;36m0\u001b[0m\u001b[0;34m]\u001b[0m \u001b[0;34m=\u001b[0m \u001b[0mcolorformat\u001b[0m\u001b[0;34m(\u001b[0m\u001b[0mstyledef\u001b[0m\u001b[0;34m)\u001b[0m\u001b[0;34m\u001b[0m\u001b[0;34m\u001b[0m\u001b[0m\n\u001b[0m\u001b[1;32m     77\u001b[0m \u001b[0;34m\u001b[0m\u001b[0m\n\u001b[1;32m     78\u001b[0m         \u001b[0;32mreturn\u001b[0m \u001b[0mobj\u001b[0m\u001b[0;34m\u001b[0m\u001b[0;34m\u001b[0m\u001b[0m\n",
            "\u001b[0;32m/usr/local/lib/python3.6/dist-packages/pygments/style.py\u001b[0m in \u001b[0;36mcolorformat\u001b[0;34m(text)\u001b[0m\n\u001b[1;32m     31\u001b[0m             \u001b[0;32melif\u001b[0m \u001b[0mtext\u001b[0m \u001b[0;34m==\u001b[0m \u001b[0;34m''\u001b[0m\u001b[0;34m:\u001b[0m\u001b[0;34m\u001b[0m\u001b[0;34m\u001b[0m\u001b[0m\n\u001b[1;32m     32\u001b[0m                 \u001b[0;32mreturn\u001b[0m \u001b[0;34m''\u001b[0m\u001b[0;34m\u001b[0m\u001b[0;34m\u001b[0m\u001b[0m\n\u001b[0;32m---> 33\u001b[0;31m             \u001b[0;32massert\u001b[0m \u001b[0;32mFalse\u001b[0m\u001b[0;34m,\u001b[0m \u001b[0;34m\"wrong color format %r\"\u001b[0m \u001b[0;34m%\u001b[0m \u001b[0mtext\u001b[0m\u001b[0;34m\u001b[0m\u001b[0;34m\u001b[0m\u001b[0m\n\u001b[0m\u001b[1;32m     34\u001b[0m \u001b[0;34m\u001b[0m\u001b[0m\n\u001b[1;32m     35\u001b[0m         \u001b[0m_styles\u001b[0m \u001b[0;34m=\u001b[0m \u001b[0mobj\u001b[0m\u001b[0;34m.\u001b[0m\u001b[0m_styles\u001b[0m \u001b[0;34m=\u001b[0m \u001b[0;34m{\u001b[0m\u001b[0;34m}\u001b[0m\u001b[0;34m\u001b[0m\u001b[0;34m\u001b[0m\u001b[0m\n",
            "\u001b[0;31mAssertionError\u001b[0m: wrong color format 'ansibrightred'"
          ]
        }
      ]
    },
    {
      "cell_type": "code",
      "metadata": {
        "colab_type": "code",
        "outputId": "6087e75b-7901-412f-93d4-e3bc9524db36",
        "id": "P52a_XkxdYg8",
        "colab": {
          "base_uri": "https://localhost:8080/",
          "height": 385
        }
      },
      "source": [
        "import time\n",
        "from qiskit import ClassicalRegister, QuantumRegister\n",
        "from qiskit import QuantumCircuit,  available_backends, execute, register, get_backend\n",
        "from qiskit.tools.visualization import circuit_drawer\n",
        "from qiskit.quantum_info import state_fidelity\n",
        "from qiskit import BasicAer\n",
        "from qiskit import QuantumProgram\n",
        "\n",
        "# Useful additional packages\n",
        "import matplotlib.pyplot as plt\n",
        "%matplotlib inline\n",
        "import numpy as np\n",
        "from math import pi\n",
        "\n",
        "# author: Syed Hammad Ahmed (5068474)\n",
        "\n",
        "backend = 'ibmqx5'\n",
        "\n",
        "APItoken = 'f6500d0c95014269ca779482456925bf5a3236c4da2e8b9717e7e72af1a9a80a1e6736a0b27512b5416b0c8c74e7372b855b6e6359742b7528a237b57b3f9458'\n",
        "\n",
        "qx_config = {\n",
        "    \"APItoken\": APItoken,\n",
        "    \"url\":\"https://quantumexperience.ng.bluemix.net/api\"}\n",
        "\n",
        "\n",
        "#test driver code\n",
        "def main():\n",
        "  qp = QuantumProgram()\n",
        "\n",
        "  backend = BasicAer.get_backend('unitary_simulator')\n",
        "  n = 3\n",
        "  q = QuantumRegister(n)\n",
        "  c = ClassicalRegister(n)\n",
        "\n",
        "  qc = QuantumCircuit(q, c)\n",
        "  qc = qp.create_circuit('HelloWorldCircuit', [q],[c])\n",
        "\n",
        "  qc.h(q[0])\n",
        "  qc.cu3(0, 0, -pi/2, q[0], q[1])\n",
        "  qc.h(q[1])\n",
        "  qc.cu3(0, 0, -pi/2, q[0], q[2])\n",
        "  qc.cu3(0, 0, -pi/2, q[1], q[2])\n",
        "  qc.h(q[2])\n",
        "  qc.measure(q, c)\n",
        "  qc.draw()\n",
        "\n",
        "  qp.set_api(token,url='https://quantumexperience.ng.bluemix.net/api')\n",
        "\n",
        "if __name__ == \"__main__\":\n",
        "    main()\n"
      ],
      "execution_count": 0,
      "outputs": [
        {
          "output_type": "error",
          "ename": "AssertionError",
          "evalue": "ignored",
          "traceback": [
            "\u001b[0;31m---------------------------------------------------------------------------\u001b[0m",
            "\u001b[0;31mAssertionError\u001b[0m                            Traceback (most recent call last)",
            "\u001b[0;32m<ipython-input-6-0cf82f732a9f>\u001b[0m in \u001b[0;36m<module>\u001b[0;34m()\u001b[0m\n\u001b[0;32m----> 1\u001b[0;31m \u001b[0;32mfrom\u001b[0m \u001b[0mqiskit\u001b[0m \u001b[0;32mimport\u001b[0m \u001b[0mQuantumCircuit\u001b[0m\u001b[0;34m,\u001b[0m \u001b[0mClassicalRegister\u001b[0m\u001b[0;34m,\u001b[0m \u001b[0mQuantumRegister\u001b[0m\u001b[0;34m,\u001b[0m \u001b[0mexecute\u001b[0m\u001b[0;34m\u001b[0m\u001b[0;34m\u001b[0m\u001b[0m\n\u001b[0m\u001b[1;32m      2\u001b[0m \u001b[0;32mfrom\u001b[0m \u001b[0mqiskit\u001b[0m\u001b[0;34m.\u001b[0m\u001b[0mtools\u001b[0m\u001b[0;34m.\u001b[0m\u001b[0mvisualization\u001b[0m \u001b[0;32mimport\u001b[0m \u001b[0mcircuit_drawer\u001b[0m\u001b[0;34m\u001b[0m\u001b[0;34m\u001b[0m\u001b[0m\n\u001b[1;32m      3\u001b[0m \u001b[0;32mfrom\u001b[0m \u001b[0mqiskit\u001b[0m\u001b[0;34m.\u001b[0m\u001b[0mquantum_info\u001b[0m \u001b[0;32mimport\u001b[0m \u001b[0mstate_fidelity\u001b[0m\u001b[0;34m\u001b[0m\u001b[0;34m\u001b[0m\u001b[0m\n\u001b[1;32m      4\u001b[0m \u001b[0;32mfrom\u001b[0m \u001b[0mqiskit\u001b[0m \u001b[0;32mimport\u001b[0m \u001b[0mBasicAer\u001b[0m\u001b[0;34m\u001b[0m\u001b[0;34m\u001b[0m\u001b[0m\n\u001b[1;32m      5\u001b[0m \u001b[0;31m# Useful additional packages\u001b[0m\u001b[0;34m\u001b[0m\u001b[0;34m\u001b[0m\u001b[0;34m\u001b[0m\u001b[0m\n",
            "\u001b[0;32m/usr/local/lib/python3.6/dist-packages/qiskit/__init__.py\u001b[0m in \u001b[0;36m<module>\u001b[0;34m()\u001b[0m\n\u001b[1;32m     30\u001b[0m \u001b[0;34m\u001b[0m\u001b[0m\n\u001b[1;32m     31\u001b[0m \u001b[0;31m# The main qiskit operators\u001b[0m\u001b[0;34m\u001b[0m\u001b[0;34m\u001b[0m\u001b[0;34m\u001b[0m\u001b[0m\n\u001b[0;32m---> 32\u001b[0;31m \u001b[0;32mfrom\u001b[0m \u001b[0mqiskit\u001b[0m\u001b[0;34m.\u001b[0m\u001b[0mcircuit\u001b[0m \u001b[0;32mimport\u001b[0m \u001b[0mClassicalRegister\u001b[0m\u001b[0;34m\u001b[0m\u001b[0;34m\u001b[0m\u001b[0m\n\u001b[0m\u001b[1;32m     33\u001b[0m \u001b[0;32mfrom\u001b[0m \u001b[0mqiskit\u001b[0m\u001b[0;34m.\u001b[0m\u001b[0mcircuit\u001b[0m \u001b[0;32mimport\u001b[0m \u001b[0mQuantumRegister\u001b[0m\u001b[0;34m\u001b[0m\u001b[0;34m\u001b[0m\u001b[0m\n\u001b[1;32m     34\u001b[0m \u001b[0;32mfrom\u001b[0m \u001b[0mqiskit\u001b[0m\u001b[0;34m.\u001b[0m\u001b[0mcircuit\u001b[0m \u001b[0;32mimport\u001b[0m \u001b[0mQuantumCircuit\u001b[0m\u001b[0;34m\u001b[0m\u001b[0;34m\u001b[0m\u001b[0m\n",
            "\u001b[0;32m/usr/local/lib/python3.6/dist-packages/qiskit/circuit/__init__.py\u001b[0m in \u001b[0;36m<module>\u001b[0;34m()\u001b[0m\n\u001b[1;32m     64\u001b[0m    \u001b[0mrandom\u001b[0m\u001b[0;34m.\u001b[0m\u001b[0mrandom_circuit\u001b[0m\u001b[0;34m\u001b[0m\u001b[0;34m\u001b[0m\u001b[0m\n\u001b[1;32m     65\u001b[0m \"\"\"\n\u001b[0;32m---> 66\u001b[0;31m \u001b[0;32mfrom\u001b[0m \u001b[0;34m.\u001b[0m\u001b[0mquantumcircuit\u001b[0m \u001b[0;32mimport\u001b[0m \u001b[0mQuantumCircuit\u001b[0m\u001b[0;34m\u001b[0m\u001b[0;34m\u001b[0m\u001b[0m\n\u001b[0m\u001b[1;32m     67\u001b[0m \u001b[0;32mfrom\u001b[0m \u001b[0;34m.\u001b[0m\u001b[0mclassicalregister\u001b[0m \u001b[0;32mimport\u001b[0m \u001b[0mClassicalRegister\u001b[0m\u001b[0;34m,\u001b[0m \u001b[0mClbit\u001b[0m\u001b[0;34m\u001b[0m\u001b[0;34m\u001b[0m\u001b[0m\n\u001b[1;32m     68\u001b[0m \u001b[0;32mfrom\u001b[0m \u001b[0;34m.\u001b[0m\u001b[0mquantumregister\u001b[0m \u001b[0;32mimport\u001b[0m \u001b[0mQuantumRegister\u001b[0m\u001b[0;34m,\u001b[0m \u001b[0mQubit\u001b[0m\u001b[0;34m\u001b[0m\u001b[0;34m\u001b[0m\u001b[0m\n",
            "\u001b[0;32m/usr/local/lib/python3.6/dist-packages/qiskit/circuit/quantumcircuit.py\u001b[0m in \u001b[0;36m<module>\u001b[0;34m()\u001b[0m\n\u001b[1;32m     40\u001b[0m     \u001b[0;32mimport\u001b[0m \u001b[0mpygments\u001b[0m\u001b[0;34m\u001b[0m\u001b[0;34m\u001b[0m\u001b[0m\n\u001b[1;32m     41\u001b[0m     \u001b[0;32mfrom\u001b[0m \u001b[0mpygments\u001b[0m\u001b[0;34m.\u001b[0m\u001b[0mformatters\u001b[0m \u001b[0;32mimport\u001b[0m \u001b[0mTerminal256Formatter\u001b[0m  \u001b[0;31m# pylint: disable=no-name-in-module\u001b[0m\u001b[0;34m\u001b[0m\u001b[0;34m\u001b[0m\u001b[0m\n\u001b[0;32m---> 42\u001b[0;31m     \u001b[0;32mfrom\u001b[0m \u001b[0mqiskit\u001b[0m\u001b[0;34m.\u001b[0m\u001b[0mqasm\u001b[0m\u001b[0;34m.\u001b[0m\u001b[0mpygments\u001b[0m \u001b[0;32mimport\u001b[0m \u001b[0mOpenQASMLexer\u001b[0m  \u001b[0;31m# pylint: disable=ungrouped-imports\u001b[0m\u001b[0;34m\u001b[0m\u001b[0;34m\u001b[0m\u001b[0m\n\u001b[0m\u001b[1;32m     43\u001b[0m     \u001b[0;32mfrom\u001b[0m \u001b[0mqiskit\u001b[0m\u001b[0;34m.\u001b[0m\u001b[0mqasm\u001b[0m\u001b[0;34m.\u001b[0m\u001b[0mpygments\u001b[0m \u001b[0;32mimport\u001b[0m \u001b[0mQasmTerminalStyle\u001b[0m  \u001b[0;31m# pylint: disable=ungrouped-imports\u001b[0m\u001b[0;34m\u001b[0m\u001b[0;34m\u001b[0m\u001b[0m\n\u001b[1;32m     44\u001b[0m     \u001b[0mHAS_PYGMENTS\u001b[0m \u001b[0;34m=\u001b[0m \u001b[0;32mTrue\u001b[0m\u001b[0;34m\u001b[0m\u001b[0;34m\u001b[0m\u001b[0m\n",
            "\u001b[0;32m/usr/local/lib/python3.6/dist-packages/qiskit/qasm/__init__.py\u001b[0m in \u001b[0;36m<module>\u001b[0;34m()\u001b[0m\n\u001b[1;32m     53\u001b[0m \u001b[0;34m\u001b[0m\u001b[0m\n\u001b[1;32m     54\u001b[0m \u001b[0;32mif\u001b[0m \u001b[0mHAS_PYGMENTS\u001b[0m\u001b[0;34m:\u001b[0m\u001b[0;34m\u001b[0m\u001b[0;34m\u001b[0m\u001b[0m\n\u001b[0;32m---> 55\u001b[0;31m     \u001b[0;32mfrom\u001b[0m \u001b[0;34m.\u001b[0m\u001b[0mpygments\u001b[0m \u001b[0;32mimport\u001b[0m \u001b[0mOpenQASMLexer\u001b[0m\u001b[0;34m,\u001b[0m \u001b[0mQasmHTMLStyle\u001b[0m\u001b[0;34m,\u001b[0m \u001b[0mQasmTerminalStyle\u001b[0m\u001b[0;34m\u001b[0m\u001b[0;34m\u001b[0m\u001b[0m\n\u001b[0m",
            "\u001b[0;32m/usr/local/lib/python3.6/dist-packages/qiskit/qasm/pygments/__init__.py\u001b[0m in \u001b[0;36m<module>\u001b[0;34m()\u001b[0m\n\u001b[1;32m     34\u001b[0m \u001b[0;34m\u001b[0m\u001b[0m\n\u001b[1;32m     35\u001b[0m \u001b[0;32mif\u001b[0m \u001b[0mHAS_PYGMENTS\u001b[0m\u001b[0;34m:\u001b[0m\u001b[0;34m\u001b[0m\u001b[0;34m\u001b[0m\u001b[0m\n\u001b[0;32m---> 36\u001b[0;31m     \u001b[0;32mfrom\u001b[0m \u001b[0;34m.\u001b[0m\u001b[0mlexer\u001b[0m \u001b[0;32mimport\u001b[0m \u001b[0mOpenQASMLexer\u001b[0m\u001b[0;34m,\u001b[0m \u001b[0mQasmTerminalStyle\u001b[0m\u001b[0;34m,\u001b[0m \u001b[0mQasmHTMLStyle\u001b[0m\u001b[0;34m\u001b[0m\u001b[0;34m\u001b[0m\u001b[0m\n\u001b[0m",
            "\u001b[0;32m/usr/local/lib/python3.6/dist-packages/qiskit/qasm/pygments/lexer.py\u001b[0m in \u001b[0;36m<module>\u001b[0;34m()\u001b[0m\n\u001b[1;32m     25\u001b[0m \u001b[0;34m\u001b[0m\u001b[0m\n\u001b[1;32m     26\u001b[0m \u001b[0;34m\u001b[0m\u001b[0m\n\u001b[0;32m---> 27\u001b[0;31m \u001b[0;32mclass\u001b[0m \u001b[0mQasmTerminalStyle\u001b[0m\u001b[0;34m(\u001b[0m\u001b[0mStyle\u001b[0m\u001b[0;34m)\u001b[0m\u001b[0;34m:\u001b[0m\u001b[0;34m\u001b[0m\u001b[0;34m\u001b[0m\u001b[0m\n\u001b[0m\u001b[1;32m     28\u001b[0m     \u001b[0;34m\"\"\"A style for OpenQasm in a Terminal env (e.g. Jupyter print).\"\"\"\u001b[0m\u001b[0;34m\u001b[0m\u001b[0;34m\u001b[0m\u001b[0m\n\u001b[1;32m     29\u001b[0m     styles = {\n",
            "\u001b[0;32m/usr/local/lib/python3.6/dist-packages/pygments/style.py\u001b[0m in \u001b[0;36m__new__\u001b[0;34m(mcs, name, bases, dct)\u001b[0m\n\u001b[1;32m     74\u001b[0m                         \u001b[0mndef\u001b[0m\u001b[0;34m[\u001b[0m\u001b[0;36m8\u001b[0m\u001b[0;34m]\u001b[0m \u001b[0;34m=\u001b[0m \u001b[0;36m1\u001b[0m\u001b[0;34m\u001b[0m\u001b[0;34m\u001b[0m\u001b[0m\n\u001b[1;32m     75\u001b[0m                     \u001b[0;32melse\u001b[0m\u001b[0;34m:\u001b[0m\u001b[0;34m\u001b[0m\u001b[0;34m\u001b[0m\u001b[0m\n\u001b[0;32m---> 76\u001b[0;31m                         \u001b[0mndef\u001b[0m\u001b[0;34m[\u001b[0m\u001b[0;36m0\u001b[0m\u001b[0;34m]\u001b[0m \u001b[0;34m=\u001b[0m \u001b[0mcolorformat\u001b[0m\u001b[0;34m(\u001b[0m\u001b[0mstyledef\u001b[0m\u001b[0;34m)\u001b[0m\u001b[0;34m\u001b[0m\u001b[0;34m\u001b[0m\u001b[0m\n\u001b[0m\u001b[1;32m     77\u001b[0m \u001b[0;34m\u001b[0m\u001b[0m\n\u001b[1;32m     78\u001b[0m         \u001b[0;32mreturn\u001b[0m \u001b[0mobj\u001b[0m\u001b[0;34m\u001b[0m\u001b[0;34m\u001b[0m\u001b[0m\n",
            "\u001b[0;32m/usr/local/lib/python3.6/dist-packages/pygments/style.py\u001b[0m in \u001b[0;36mcolorformat\u001b[0;34m(text)\u001b[0m\n\u001b[1;32m     31\u001b[0m             \u001b[0;32melif\u001b[0m \u001b[0mtext\u001b[0m \u001b[0;34m==\u001b[0m \u001b[0;34m''\u001b[0m\u001b[0;34m:\u001b[0m\u001b[0;34m\u001b[0m\u001b[0;34m\u001b[0m\u001b[0m\n\u001b[1;32m     32\u001b[0m                 \u001b[0;32mreturn\u001b[0m \u001b[0;34m''\u001b[0m\u001b[0;34m\u001b[0m\u001b[0;34m\u001b[0m\u001b[0m\n\u001b[0;32m---> 33\u001b[0;31m             \u001b[0;32massert\u001b[0m \u001b[0;32mFalse\u001b[0m\u001b[0;34m,\u001b[0m \u001b[0;34m\"wrong color format %r\"\u001b[0m \u001b[0;34m%\u001b[0m \u001b[0mtext\u001b[0m\u001b[0;34m\u001b[0m\u001b[0;34m\u001b[0m\u001b[0m\n\u001b[0m\u001b[1;32m     34\u001b[0m \u001b[0;34m\u001b[0m\u001b[0m\n\u001b[1;32m     35\u001b[0m         \u001b[0m_styles\u001b[0m \u001b[0;34m=\u001b[0m \u001b[0mobj\u001b[0m\u001b[0;34m.\u001b[0m\u001b[0m_styles\u001b[0m \u001b[0;34m=\u001b[0m \u001b[0;34m{\u001b[0m\u001b[0;34m}\u001b[0m\u001b[0;34m\u001b[0m\u001b[0;34m\u001b[0m\u001b[0m\n",
            "\u001b[0;31mAssertionError\u001b[0m: wrong color format 'ansibrightred'"
          ]
        }
      ]
    }
  ]
}