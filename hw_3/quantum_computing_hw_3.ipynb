{
  "nbformat": 4,
  "nbformat_minor": 0,
  "metadata": {
    "colab": {
      "name": "quantum_computing_hw_3.ipynb",
      "provenance": [],
      "collapsed_sections": [],
      "include_colab_link": true
    },
    "kernelspec": {
      "name": "python3",
      "display_name": "Python 3"
    }
  },
  "cells": [
    {
      "cell_type": "markdown",
      "metadata": {
        "id": "view-in-github",
        "colab_type": "text"
      },
      "source": [
        "<a href=\"https://colab.research.google.com/github/syedhammadahmed/quantumcomputings20/blob/master/hw_3/quantum_computing_hw_3.ipynb\" target=\"_parent\"><img src=\"https://colab.research.google.com/assets/colab-badge.svg\" alt=\"Open In Colab\"/></a>"
      ]
    },
    {
      "cell_type": "markdown",
      "metadata": {
        "id": "wf2A1lXe6JFT",
        "colab_type": "text"
      },
      "source": [
        "## HW 3"
      ]
    },
    {
      "cell_type": "markdown",
      "metadata": {
        "id": "hqRx6Utk6O2i",
        "colab_type": "text"
      },
      "source": [
        "### Problem 1 "
      ]
    },
    {
      "cell_type": "markdown",
      "metadata": {
        "id": "-CJ51pId-O-s",
        "colab_type": "text"
      },
      "source": [
        "Let $\\omega=\\mathrm{exp}(2\\pi i/N)$ be the $N$th root of unity.  The Fourier matrix of size $N$ is the matrix $F_N=(q_{k,\\ell})\\in\\mathbb{C}^{N\\times N}$ whose entries are given by\n",
        "$$q_{k,\\ell}=\\frac{1}{\\sqrt{N}} \\omega^{k \\cdot \\ell}$$ for $k, \\ell \\in \\{0,\\ldots,N-1\\}$."
      ]
    },
    {
      "cell_type": "markdown",
      "metadata": {
        "id": "GvWI1jUeAY_6",
        "colab_type": "text"
      },
      "source": [
        "Using numpy, implement the function ```get_fourier_matrix``` that create the Fourier matrix of size $N$.\n",
        "\n",
        "Compute the eigenvalues of eigenvectors of the Fourier matrix.  \n",
        "\n",
        "To check that your code is correct, you should verify that the Fourier matrix is unitary and that its eigenvalues are $N$th roots of unity."
      ]
    },
    {
      "cell_type": "code",
      "metadata": {
        "id": "1Sb9ptztYtX8",
        "colab_type": "code",
        "outputId": "70f6ec12-af2a-40cc-9144-e8a2963734cb",
        "colab": {
          "base_uri": "https://localhost:8080/",
          "height": 404
        }
      },
      "source": [
        "import math\n",
        "import numpy as np\n",
        "import numpy.linalg as NPLA\n",
        "import scipy.linalg as SPLA\n",
        "\n",
        "#references: \n",
        "#[1] \n",
        "\n",
        "# returns the n-th roots of unity\n",
        "def getNthRoot(k, l, n):\n",
        "  real = round(math.cos(2 * (k * l) * math.pi * 1.0/n),4)\n",
        "  im = round(math.sin(2 * (k * l) * math.pi * 1.0/n),4)\n",
        "  return (1.0/math.sqrt(n))*complex(real, im)\n",
        "\n",
        "# returns fourier matrix where n(-th root) is the argument\n",
        "def get_fourier_matrix(n):\n",
        "  fourierMatrix = np.zeros((n,n), dtype=complex)\n",
        "  for k in range(0, n):\n",
        "    for l in range(0, n): \n",
        "      fourierMatrix[k][l] = getNthRoot(k, l, n)\n",
        "  return fourierMatrix\n",
        "\n",
        "def getEigenValNVec(matrix):\n",
        "  return NPLA.eigvals(matrix)\n",
        "\n",
        "def getComplexConjugate(matrix):\n",
        "  return np.conj(matrix)\n",
        "\n",
        "def getInverse(matrix):\n",
        "  return NPLA.inv(matrix)\n",
        "\n",
        "#test driver code\n",
        "def main():\n",
        "  i = 2\n",
        "  while(i):\n",
        "    print(\"n = \", i)\n",
        "    fourierMatrix = get_fourier_matrix(i)\n",
        "    print(fourierMatrix)\n",
        "    print(\"Complex Conjugate: \")\n",
        "    print(getComplexConjugate(fourierMatrix))\n",
        "    print(\"Inverse: \")\n",
        "    print(getInverse(fourierMatrix))\n",
        "    print(\"Complex Conjugae == Inverse, Hence, fourier matrix is unitary!\")\n",
        "\n",
        "    eigenValues = getEigenValNVec(fourierMatrix)\n",
        "    print(\"eigenValues: \", eigenValues)\n",
        "\n",
        "    # eigenValuesNth = getEigenValNVec(NPLA.matrix_power(fourierMatrix,i))\n",
        "    # print(\"eigenValuesNth: \", eigenValuesNth)\n",
        "    i = i // 2\n",
        "    \n",
        "\n",
        "if __name__ == \"__main__\":\n",
        "    main()"
      ],
      "execution_count": 40,
      "outputs": [
        {
          "output_type": "stream",
          "text": [
            "n =  2\n",
            "[[ 0.70710678+0.j  0.70710678+0.j]\n",
            " [ 0.70710678+0.j -0.70710678+0.j]]\n",
            "eigenValues:  [ 1.+0.j -1.+0.j]\n",
            "Complex Conjugate: \n",
            "[[ 0.70710678-0.j  0.70710678-0.j]\n",
            " [ 0.70710678-0.j -0.70710678-0.j]]\n",
            "Inverse: \n",
            "[[ 0.70710678+0.j  0.70710678+0.j]\n",
            " [ 0.70710678+0.j -0.70710678-0.j]]\n",
            "Dagger: \n",
            "[[ 0.70710678-0.j  0.70710678-0.j]\n",
            " [ 0.70710678-0.j -0.70710678-0.j]]\n",
            "n =  1\n",
            "[[1.+0.j]]\n",
            "eigenValues:  [1.+0.j]\n",
            "Complex Conjugate: \n",
            "[[1.-0.j]]\n",
            "Inverse: \n",
            "[[1.+0.j]]\n",
            "Dagger: \n",
            "[[1.-0.j]]\n"
          ],
          "name": "stdout"
        }
      ]
    },
    {
      "cell_type": "markdown",
      "metadata": {
        "id": "nuAnEb1xCVfs",
        "colab_type": "text"
      },
      "source": [
        "### Problem 2"
      ]
    },
    {
      "cell_type": "markdown",
      "metadata": {
        "id": "H3bqptmVDKCQ",
        "colab_type": "text"
      },
      "source": [
        "Using Qiskit IBM Q Experience, implement the quantum phase estimation circuit with 3-bit precision.  \n",
        "\n",
        "This quantum circuit is explained on pages 110-113 (Inverse Fourier transform for 3 qubits) of the lecture slides.\n",
        "\n",
        "You can preprare the initial state using ```u3``` gates. See [u3 gates](https://qiskit.org/documentation/tutorials/fundamentals/5_summary_of_quantum_operations.html?highlight=arbitrary%20single%20qubit%20gate#u-gates)\n",
        "\n",
        "The controlled $R_2^\\dagger$ gates are controlled ```u3``` gates.  See [controlled u3 gate](https://qiskit.org/documentation/tutorials/fundamentals/5_summary_of_quantum_operations.html?highlight=arbitrary%20single%20qubit%20gate#Controlled-u3-rotation)."
      ]
    },
    {
      "cell_type": "code",
      "metadata": {
        "id": "cUH6Pq_BAWTg",
        "colab_type": "code",
        "colab": {}
      },
      "source": [
        ""
      ],
      "execution_count": 0,
      "outputs": []
    }
  ]
}