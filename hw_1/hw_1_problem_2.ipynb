{
  "nbformat": 4,
  "nbformat_minor": 0,
  "metadata": {
    "colab": {
      "name": "hw_1_problem_2.ipynb",
      "provenance": [],
      "collapsed_sections": [],
      "include_colab_link": true
    },
    "kernelspec": {
      "name": "python3",
      "display_name": "Python 3"
    }
  },
  "cells": [
    {
      "cell_type": "markdown",
      "metadata": {
        "id": "view-in-github",
        "colab_type": "text"
      },
      "source": [
        "<a href=\"https://colab.research.google.com/github/syedhammadahmed/quantumcomputings20/blob/master/hw_1/hw_1_problem_2.ipynb\" target=\"_parent\"><img src=\"https://colab.research.google.com/assets/colab-badge.svg\" alt=\"Open In Colab\"/></a>"
      ]
    },
    {
      "cell_type": "markdown",
      "metadata": {
        "id": "sGf-nYo10Klf",
        "colab_type": "text"
      },
      "source": [
        "## HW 1 ##"
      ]
    },
    {
      "cell_type": "markdown",
      "metadata": {
        "id": "dO_S4Lfp2ikH",
        "colab_type": "text"
      },
      "source": [
        "### Problem 2 ###"
      ]
    },
    {
      "cell_type": "markdown",
      "metadata": {
        "id": "G0vOp72N8Ir9",
        "colab_type": "text"
      },
      "source": [
        "**Some definitions**"
      ]
    },
    {
      "cell_type": "markdown",
      "metadata": {
        "id": "tpAherNO2k0W",
        "colab_type": "text"
      },
      "source": [
        "Let \n",
        "\n",
        "$$M\\in\\mathbb{R}^{n\\times n}$$ be an arbitrary matrix.  \n",
        "\n",
        "Let $$p(x)=a_0 + a_1 x + a_2 x^2 + \\ldots + a_n x^n \\in\\mathbb{R}[x]$$ be an arbitrary polynomial of less or equal to $n$.\n",
        "\n",
        "The above polynomial can be used to define a matrix function that takes matrices as input and outputs matrices as follows: \n",
        "\n",
        "$$p(M) = a_0 I + a_1 M + \\ldots + a_n M^n,$$ \n",
        "\n",
        "that is, each monomial $x^k$ is substituted by the corresponding matrix power $M^k$.\n",
        "\n",
        "We say that a polynomial $p(x)$ annihilates a matrix $M\\in\\mathbb{R}^{n\\times n}$ iff $p(M)=\\boldsymbol{0}$, where $\\boldsymbol{0}$ is the zero matrix."
      ]
    },
    {
      "cell_type": "markdown",
      "metadata": {
        "id": "VqlwG3yO6eGm",
        "colab_type": "text"
      },
      "source": [
        "**Task**"
      ]
    },
    {
      "cell_type": "markdown",
      "metadata": {
        "id": "n4ltay5l26H-",
        "colab_type": "text"
      },
      "source": [
        "The task is to write a function ```annihilate_poly``` that takes as input an arbitrary square numpy array $M$ and outputs a vector whose cofficients are the coefficients of a (non-trivial) polynomial that annihilates $M$.  One-trivial means that its is not the zero polynomial which maps every matrix to the zero matrix."
      ]
    },
    {
      "cell_type": "code",
      "metadata": {
        "id": "pEeIAx_AZovt",
        "colab_type": "code",
        "colab": {
          "base_uri": "https://localhost:8080/",
          "height": 455
        },
        "outputId": "f66f0103-e4ee-42bd-ac1b-6d88a09ddd7b"
      },
      "source": [
        "import numpy as np\n",
        "import numpy.linalg as NPLA\n",
        "import scipy.linalg as SPLA\n",
        "\n",
        "#references: \n",
        "#[1] https://www.answiz.com/questions/54241/python-numpy-scipy-finding-the-null-space-of-a-matrix\n",
        "\n",
        "\n",
        "def vec(m):\n",
        "  n = np.shape(m)[0]\n",
        "  m = np.array(m)\n",
        "  m = np.reshape(m, (n * n, 1))\n",
        "  return m\n",
        "\n",
        "def mPowerK(m, k):\n",
        "  return NPLA.matrix_power(m, k)\n",
        "\n",
        "def makePolynomial(m, k):\n",
        "  n, n = np.shape(m)\n",
        "  polynomial = np.array([])\n",
        "  # for i in range(k + 1):\n",
        "  for i in range(0, k + 1):\n",
        "    monomial = mPowerK(m, i)\n",
        "    print(monomial)\n",
        "    vectorizedMonomial = vec(monomial)\n",
        "    polynomial = np.concatenate(polynomial, vectorizedMonomial)\n",
        "    polynomial = np.reshape(polynomial, (n * n, i + 1))\n",
        "  print(polynomial)\n",
        "  print(np.shape(polynomial))\n",
        "  return polynomial\n",
        "\n",
        "# def mPowerK(m, k):\n",
        "#   m = vec(m)\n",
        "#   p = np.array([])\n",
        "#   for i in range(n * n + 1):\n",
        "#     p = np.append(p, m)\n",
        "#   p = np.reshape(p, (n * n, n * n + 1))  \n",
        "#   print(p)\n",
        "#   return p\n",
        "\n",
        "def annihilate_poly(m, k):\n",
        "  n, n = np.shape(m)\n",
        "  polynomial = makePolynomial(m, k)\n",
        "  # eigenValue = NPLA.eig(polynomial)\n",
        "  # nullSpace = SPLA.null_space(polynomial - eigenValue[0][0]*np.eye(n), rcond=1e-14)\n",
        "  nullSpace = SPLA.null_space(polynomial)\n",
        "  # nullSpace = nullSpace.T.dot(nullSpace) \n",
        "  return nullSpace\n",
        "  # mPowerK(m, k)\n",
        "\n",
        "def main():\n",
        "  n = 3\n",
        "  k = 3\n",
        "  m = np.array([[1, -1, -1],\n",
        "               [1, -2, 1],\n",
        "               [0, 1, -3]])\n",
        "  m = np.reshape(m, (n, n))\n",
        "  coeffs = annihilate_poly(m, k)\n",
        "  print(coeffs)\n",
        "\n",
        "if __name__ == \"__main__\":\n",
        "    main()\n",
        "\n"
      ],
      "execution_count": 43,
      "outputs": [
        {
          "output_type": "stream",
          "text": [
            "[[1 0 0]\n",
            " [0 1 0]\n",
            " [0 0 1]]\n"
          ],
          "name": "stdout"
        },
        {
          "output_type": "error",
          "ename": "TypeError",
          "evalue": "ignored",
          "traceback": [
            "\u001b[0;31m---------------------------------------------------------------------------\u001b[0m",
            "\u001b[0;31mTypeError\u001b[0m                                 Traceback (most recent call last)",
            "\u001b[0;32m<ipython-input-43-82fca4f720aa>\u001b[0m in \u001b[0;36m<module>\u001b[0;34m()\u001b[0m\n\u001b[1;32m     60\u001b[0m \u001b[0;34m\u001b[0m\u001b[0m\n\u001b[1;32m     61\u001b[0m \u001b[0;32mif\u001b[0m \u001b[0m__name__\u001b[0m \u001b[0;34m==\u001b[0m \u001b[0;34m\"__main__\"\u001b[0m\u001b[0;34m:\u001b[0m\u001b[0;34m\u001b[0m\u001b[0;34m\u001b[0m\u001b[0m\n\u001b[0;32m---> 62\u001b[0;31m     \u001b[0mmain\u001b[0m\u001b[0;34m(\u001b[0m\u001b[0;34m)\u001b[0m\u001b[0;34m\u001b[0m\u001b[0;34m\u001b[0m\u001b[0m\n\u001b[0m\u001b[1;32m     63\u001b[0m \u001b[0;34m\u001b[0m\u001b[0m\n",
            "\u001b[0;32m<ipython-input-43-82fca4f720aa>\u001b[0m in \u001b[0;36mmain\u001b[0;34m()\u001b[0m\n\u001b[1;32m     56\u001b[0m                [0, 1, -3]])\n\u001b[1;32m     57\u001b[0m   \u001b[0mm\u001b[0m \u001b[0;34m=\u001b[0m \u001b[0mnp\u001b[0m\u001b[0;34m.\u001b[0m\u001b[0mreshape\u001b[0m\u001b[0;34m(\u001b[0m\u001b[0mm\u001b[0m\u001b[0;34m,\u001b[0m \u001b[0;34m(\u001b[0m\u001b[0mn\u001b[0m\u001b[0;34m,\u001b[0m \u001b[0mn\u001b[0m\u001b[0;34m)\u001b[0m\u001b[0;34m)\u001b[0m\u001b[0;34m\u001b[0m\u001b[0;34m\u001b[0m\u001b[0m\n\u001b[0;32m---> 58\u001b[0;31m   \u001b[0mcoeffs\u001b[0m \u001b[0;34m=\u001b[0m \u001b[0mannihilate_poly\u001b[0m\u001b[0;34m(\u001b[0m\u001b[0mm\u001b[0m\u001b[0;34m,\u001b[0m \u001b[0mk\u001b[0m\u001b[0;34m)\u001b[0m\u001b[0;34m\u001b[0m\u001b[0;34m\u001b[0m\u001b[0m\n\u001b[0m\u001b[1;32m     59\u001b[0m   \u001b[0mprint\u001b[0m\u001b[0;34m(\u001b[0m\u001b[0mcoeffs\u001b[0m\u001b[0;34m)\u001b[0m\u001b[0;34m\u001b[0m\u001b[0;34m\u001b[0m\u001b[0m\n\u001b[1;32m     60\u001b[0m \u001b[0;34m\u001b[0m\u001b[0m\n",
            "\u001b[0;32m<ipython-input-43-82fca4f720aa>\u001b[0m in \u001b[0;36mannihilate_poly\u001b[0;34m(m, k)\u001b[0m\n\u001b[1;32m     41\u001b[0m \u001b[0;32mdef\u001b[0m \u001b[0mannihilate_poly\u001b[0m\u001b[0;34m(\u001b[0m\u001b[0mm\u001b[0m\u001b[0;34m,\u001b[0m \u001b[0mk\u001b[0m\u001b[0;34m)\u001b[0m\u001b[0;34m:\u001b[0m\u001b[0;34m\u001b[0m\u001b[0;34m\u001b[0m\u001b[0m\n\u001b[1;32m     42\u001b[0m   \u001b[0mn\u001b[0m\u001b[0;34m,\u001b[0m \u001b[0mn\u001b[0m \u001b[0;34m=\u001b[0m \u001b[0mnp\u001b[0m\u001b[0;34m.\u001b[0m\u001b[0mshape\u001b[0m\u001b[0;34m(\u001b[0m\u001b[0mm\u001b[0m\u001b[0;34m)\u001b[0m\u001b[0;34m\u001b[0m\u001b[0;34m\u001b[0m\u001b[0m\n\u001b[0;32m---> 43\u001b[0;31m   \u001b[0mpolynomial\u001b[0m \u001b[0;34m=\u001b[0m \u001b[0mmakePolynomial\u001b[0m\u001b[0;34m(\u001b[0m\u001b[0mm\u001b[0m\u001b[0;34m,\u001b[0m \u001b[0mk\u001b[0m\u001b[0;34m)\u001b[0m\u001b[0;34m\u001b[0m\u001b[0;34m\u001b[0m\u001b[0m\n\u001b[0m\u001b[1;32m     44\u001b[0m   \u001b[0;31m# eigenValue = NPLA.eig(polynomial)\u001b[0m\u001b[0;34m\u001b[0m\u001b[0;34m\u001b[0m\u001b[0;34m\u001b[0m\u001b[0m\n\u001b[1;32m     45\u001b[0m   \u001b[0;31m# nullSpace = SPLA.null_space(polynomial - eigenValue[0][0]*np.eye(n), rcond=1e-14)\u001b[0m\u001b[0;34m\u001b[0m\u001b[0;34m\u001b[0m\u001b[0;34m\u001b[0m\u001b[0m\n",
            "\u001b[0;32m<ipython-input-43-82fca4f720aa>\u001b[0m in \u001b[0;36mmakePolynomial\u001b[0;34m(m, k)\u001b[0m\n\u001b[1;32m     24\u001b[0m     \u001b[0mprint\u001b[0m\u001b[0;34m(\u001b[0m\u001b[0mmonomial\u001b[0m\u001b[0;34m)\u001b[0m\u001b[0;34m\u001b[0m\u001b[0;34m\u001b[0m\u001b[0m\n\u001b[1;32m     25\u001b[0m     \u001b[0mvectorizedMonomial\u001b[0m \u001b[0;34m=\u001b[0m \u001b[0mvec\u001b[0m\u001b[0;34m(\u001b[0m\u001b[0mmonomial\u001b[0m\u001b[0;34m)\u001b[0m\u001b[0;34m\u001b[0m\u001b[0;34m\u001b[0m\u001b[0m\n\u001b[0;32m---> 26\u001b[0;31m     \u001b[0mpolynomial\u001b[0m \u001b[0;34m=\u001b[0m \u001b[0mnp\u001b[0m\u001b[0;34m.\u001b[0m\u001b[0mconcatenate\u001b[0m\u001b[0;34m(\u001b[0m\u001b[0mpolynomial\u001b[0m\u001b[0;34m,\u001b[0m \u001b[0mvectorizedMonomial\u001b[0m\u001b[0;34m)\u001b[0m\u001b[0;34m\u001b[0m\u001b[0;34m\u001b[0m\u001b[0m\n\u001b[0m\u001b[1;32m     27\u001b[0m     \u001b[0mpolynomial\u001b[0m \u001b[0;34m=\u001b[0m \u001b[0mnp\u001b[0m\u001b[0;34m.\u001b[0m\u001b[0mreshape\u001b[0m\u001b[0;34m(\u001b[0m\u001b[0mpolynomial\u001b[0m\u001b[0;34m,\u001b[0m \u001b[0;34m(\u001b[0m\u001b[0mn\u001b[0m \u001b[0;34m*\u001b[0m \u001b[0mn\u001b[0m\u001b[0;34m,\u001b[0m \u001b[0mi\u001b[0m \u001b[0;34m+\u001b[0m \u001b[0;36m1\u001b[0m\u001b[0;34m)\u001b[0m\u001b[0;34m)\u001b[0m\u001b[0;34m\u001b[0m\u001b[0;34m\u001b[0m\u001b[0m\n\u001b[1;32m     28\u001b[0m   \u001b[0mprint\u001b[0m\u001b[0;34m(\u001b[0m\u001b[0mpolynomial\u001b[0m\u001b[0;34m)\u001b[0m\u001b[0;34m\u001b[0m\u001b[0;34m\u001b[0m\u001b[0m\n",
            "\u001b[0;32m<__array_function__ internals>\u001b[0m in \u001b[0;36mconcatenate\u001b[0;34m(*args, **kwargs)\u001b[0m\n",
            "\u001b[0;31mTypeError\u001b[0m: only integer scalar arrays can be converted to a scalar index"
          ]
        }
      ]
    },
    {
      "cell_type": "code",
      "metadata": {
        "id": "8a3LygMK4Ncj",
        "colab_type": "code",
        "colab": {}
      },
      "source": [
        ""
      ],
      "execution_count": 0,
      "outputs": []
    },
    {
      "cell_type": "markdown",
      "metadata": {
        "id": "F5jLtN6i6kr2",
        "colab_type": "text"
      },
      "source": [
        "**Hint**"
      ]
    },
    {
      "cell_type": "markdown",
      "metadata": {
        "id": "gX0wbu8z3eDu",
        "colab_type": "text"
      },
      "source": [
        "You can reduce the problem to finding a linear dependance relationship between the $n+1$ vectors \n",
        "\n",
        "$$\\mathrm{vec}(I), \\mathrm{vec}(M), \\mathrm{vec}(M^2),\\ldots,\\mathrm{vec}(M^n)\\in\\mathrm{R}^{n^2}.$$\n",
        "\n"
      ]
    },
    {
      "cell_type": "markdown",
      "metadata": {
        "id": "n3SRuDOi5DLH",
        "colab_type": "text"
      },
      "source": [
        "The operation $\\mathrm{vec}$ turns a square matrix $M\\in\\mathbb{R}^{n\\times n}$ into a vector $v\\in\\mathbb{R}^{n^2}$ by first listing the entries of the first row, then those of the second row etc."
      ]
    },
    {
      "cell_type": "markdown",
      "metadata": {
        "id": "KXdlDLbQ7lHm",
        "colab_type": "text"
      },
      "source": [
        "Update: \n",
        "\n",
        "To solve this problem, you have to compute the null space of the matrix $A\\in \\mathbb{R}^{n^2\\times (n+1)}$ whose columns are the vectors $\\mathrm{vec}(M^k)$ for $k\\in\\{0,\\ldots,n\\}$.\n",
        "\n",
        "\n",
        "(This is not needed: \n",
        "\n",
        "If you don't remeber how to compute the find a linear dependance relationship, check out this stackoverflow post: https://math.stackexchange.com/questions/2198960/finding-linear-dependence-relation\n",
        "\n",
        "You can use https://docs.scipy.org/doc/numpy/reference/generated/numpy.linalg.solve.html to solve the resulting matrix equation.)"
      ]
    },
    {
      "cell_type": "markdown",
      "metadata": {
        "id": "je97MuQ981hW",
        "colab_type": "text"
      },
      "source": [
        "**Task**"
      ]
    },
    {
      "cell_type": "markdown",
      "metadata": {
        "id": "H0LgESqW8_7O",
        "colab_type": "text"
      },
      "source": [
        "Write a function ```annihilate_min_deg_poly``` that computes a non-trivial polynomial that annihilates a given square matrix and has the smallest possible degree.  Recall that a polynomial $p(x)$ has degree $d$ if the coefficient $a_{d+1}=\\ldots=a_n=0$."
      ]
    },
    {
      "cell_type": "code",
      "metadata": {
        "id": "KU94UiOz0UI9",
        "colab_type": "code",
        "colab": {
          "base_uri": "https://localhost:8080/",
          "height": 35
        },
        "outputId": "53be88bf-d142-4f8c-94f3-ad6c194cd525"
      },
      "source": [
        "print(\"Task 2: \")"
      ],
      "execution_count": 4,
      "outputs": [
        {
          "output_type": "stream",
          "text": [
            "Task 2: \n"
          ],
          "name": "stdout"
        }
      ]
    }
  ]
}