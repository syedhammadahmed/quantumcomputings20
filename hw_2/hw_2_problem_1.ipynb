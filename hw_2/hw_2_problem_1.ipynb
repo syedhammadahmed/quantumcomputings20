{
  "nbformat": 4,
  "nbformat_minor": 0,
  "metadata": {
    "colab": {
      "name": "Copy of hw_1_problem_2.ipynb",
      "provenance": [],
      "collapsed_sections": [],
      "include_colab_link": true
    },
    "kernelspec": {
      "name": "python3",
      "display_name": "Python 3"
    }
  },
  "cells": [
    {
      "cell_type": "markdown",
      "metadata": {
        "id": "view-in-github",
        "colab_type": "text"
      },
      "source": [
        "<a href=\"https://colab.research.google.com/github/syedhammadahmed/quantumcomputings20/blob/master/hw_2/hw_2_problem_1.ipynb\" target=\"_parent\"><img src=\"https://colab.research.google.com/assets/colab-badge.svg\" alt=\"Open In Colab\"/></a>"
      ]
    },
    {
      "cell_type": "markdown",
      "metadata": {
        "id": "sGf-nYo10Klf",
        "colab_type": "text"
      },
      "source": [
        "## HW 2 ##"
      ]
    },
    {
      "cell_type": "markdown",
      "metadata": {
        "id": "dO_S4Lfp2ikH",
        "colab_type": "text"
      },
      "source": [
        "### Problem 1 ###"
      ]
    },
    {
      "cell_type": "markdown",
      "metadata": {
        "id": "tpAherNO2k0W",
        "colab_type": "text"
      },
      "source": [
        "Implement a simulation of the Hadamard test for any qubit state |psi> and any single qubit unitary U using numpy. Observe that you have to compute how the state of the quantum register changes. It is not enough to just code up the formula for the probabilities that we derived in class.\n",
        "\n",
        "Recall that you can realize the controlled-U gate as follows: |0><0| otimes I + |1><1| otimes U. Use the numpy command np.kron for the tensor product.\n",
        "\n",
        "For |psi> use the state |0> and for the unitary U use the orthogonal matrix that describes the rotation by angle 2 pi theta, where theta [0, 1).\n",
        "\n",
        "Create a plot showing the probability Pr(0) in dependence on theta.\n"
      ]
    },
    {
      "cell_type": "code",
      "metadata": {
        "id": "pEeIAx_AZovt",
        "colab_type": "code",
        "outputId": "0a864358-bc75-40f7-a7f1-5cb019948daf",
        "colab": {
          "base_uri": "https://localhost:8080/",
          "height": 52
        }
      },
      "source": [
        "import math\n",
        "import numpy as np\n",
        "import numpy.linalg as NPLA\n",
        "import scipy.linalg as SPLA\n",
        "\n",
        "#references: \n",
        "#[1] \n",
        "\n",
        "#  |0>    --- H --- * --- H --- M \n",
        "#                   |\n",
        "#  |psi>  ---/----- U -----------\n",
        "\n",
        "# finds tensor product of 2 matrices\n",
        "def tensor(m1, m2):\n",
        "  return np.kron(m1, m2)\n",
        "\n",
        "# generates a ket taking # of qubits and the ket value as arguments\n",
        "def getKet(qubits, value):\n",
        "  n = 2**qubits\n",
        "  vec = np.zeros(n)\n",
        "  if value>=2**qubits :\n",
        "    print(\"getKet({}, {}): Value {} cannot be represented in {} qubits!\".format(value, qubits, value, qubits))\n",
        "    return\n",
        "  vec[value] = 1\n",
        "  vec = np.reshape(vec, (n, 1))\n",
        "  return vec\n",
        "\n",
        "#initializes the state psi taking the 1D array of coefficients/prob. amplitudes as argument\n",
        "def initPsi(coeffs):\n",
        "  n = np.size(coeffs)\n",
        "  psi = np.reshape(coeffs, (n, 1))\n",
        "  return psi\n",
        "\n",
        "#initializes the 1 qubit unitary matrix - rotation of 2-pi-theta where theta is the argument\n",
        "def getUnitary(theta):\n",
        "  # unitary = np.array([[math.cos(2*math.pi*theta), -1 * math.sin(2*math.pi*theta)],\n",
        "  #                     [math.sin(2*math.pi*theta),      math.cos(2*math.pi*theta)]])\n",
        "  unitary = np.array([[round(math.cos(theta),10), round(-1 * math.sin(theta), 10)],\n",
        "                      [math.sin(theta),      round(math.cos(theta), 10)]])\n",
        "  return unitary\n",
        "\n",
        "def simulateHadamardTest(psi, unitary):\n",
        "  ket0 = getKet(1, 0)\n",
        "  ket1 = getKet(1, 1)\n",
        "  term1 = tensor(0.5 * ket0, psi + np.matmul(unitary, psi))\n",
        "  term2 = tensor(0.5 * ket1, psi - np.matmul(unitary, psi))\n",
        "  phi = term1 + term2\n",
        "\n",
        "\n",
        "#test driver code\n",
        "def main():\n",
        "  psi = initPsi([1/math.sqrt(2), 1/math.sqrt(2)])\n",
        "  unitary = getUnitary(math.pi/2)\n",
        "  print(unitary)\n",
        "\n",
        "\n",
        "\n",
        "  # n = 2\n",
        "  # k = 3\n",
        "  # m = np.array([[1, 1],\n",
        "  #               [-1, 1]])\n",
        "  # m = np.reshape(m, (n, n))\n",
        "  # coeffs = annihilate_poly(m, k)\n",
        "  # print(\"Null Space:\")\n",
        "  # print(coeffs)\n",
        "\n",
        "if __name__ == \"__main__\":\n",
        "    main()\n",
        "\n"
      ],
      "execution_count": 50,
      "outputs": [
        {
          "output_type": "stream",
          "text": [
            "[[ 0. -1.]\n",
            " [ 1.  0.]]\n"
          ],
          "name": "stdout"
        }
      ]
    },
    {
      "cell_type": "markdown",
      "metadata": {
        "colab_type": "text",
        "id": "SIPdpBCH8pbl"
      },
      "source": [
        "### Problem 2 ###"
      ]
    },
    {
      "cell_type": "markdown",
      "metadata": {
        "colab_type": "text",
        "id": "RO71OTu08pbo"
      },
      "source": [
        "Implement a simulation of the SWAP test.\n",
        "\n",
        "Use |psi1> = |0> and |psi2> = cos(2 pi theta) |0> + sin(2 pi theta) |1>. \n",
        "\n",
        "Create a plot showing the probability Pr(0) in dependence on theta."
      ]
    },
    {
      "cell_type": "code",
      "metadata": {
        "colab_type": "code",
        "outputId": "3b640996-7106-4186-bfeb-fb17f2bee7e3",
        "id": "_2GOPtJx8pbq",
        "colab": {
          "base_uri": "https://localhost:8080/",
          "height": 105
        }
      },
      "source": [
        "import numpy as np\n",
        "import numpy.linalg as NPLA\n",
        "import scipy.linalg as SPLA\n",
        "\n",
        "#references: \n",
        "#[1] https://www.answiz.com/questions/54241/python-numpy-scipy-finding-the-null-space-of-a-matrix\n",
        "\n",
        "\n",
        "# vectorizes a square matrix of order n\n",
        "def vec(m):\n",
        "  n = np.shape(m)[0]\n",
        "  m = np.array(m)\n",
        "  m = np.reshape(m, (n * n, 1))\n",
        "  return m\n",
        "\n",
        "# finds m^k where m is a matrix\n",
        "def mPowerK(m, k):\n",
        "  return NPLA.matrix_power(m, k)\n",
        "\n",
        "# generates the polynomial of degree k for the matrix m\n",
        "def makePolynomial(m, k):\n",
        "  n = np.shape(m)[0]\n",
        "  polynomial = np.array([])\n",
        "  for i in range(0, k + 1):\n",
        "    monomial = mPowerK(m, i)\n",
        "    vectorizedMonomial = vec(monomial)\n",
        "    polynomial = np.append(polynomial, vectorizedMonomial)\n",
        "    polynomial = np.reshape(polynomial, (n * n, i + 1), order='F')\n",
        "  return polynomial\n",
        "\n",
        "# finds the null space for the polynomial till degree k. If it does not exist,\n",
        "# returns a null matrix (size 0 array)\n",
        "def annihilate_poly(m, k):\n",
        "  n, n = np.shape(m)\n",
        "  polynomial = makePolynomial(m, k)\n",
        "  nullSpace = SPLA.null_space(polynomial)\n",
        "  return nullSpace\n",
        "\n",
        "#test driver code\n",
        "def main():\n",
        "  n = 2\n",
        "  k = 3\n",
        "  m = np.array([[1, 1],\n",
        "                [-1, 1]])\n",
        "  m = np.reshape(m, (n, n))\n",
        "  coeffs = annihilate_poly(m, k)\n",
        "  print(\"Null Space:\")\n",
        "  print(coeffs)\n",
        "\n",
        "if __name__ == \"__main__\":\n",
        "    main()\n",
        "\n"
      ],
      "execution_count": 0,
      "outputs": [
        {
          "output_type": "stream",
          "text": [
            "Null Space:\n",
            "[[ 0.8]\n",
            " [-0.4]\n",
            " [ 0.4]\n",
            " [ 0.2]]\n"
          ],
          "name": "stdout"
        }
      ]
    }
  ]
}