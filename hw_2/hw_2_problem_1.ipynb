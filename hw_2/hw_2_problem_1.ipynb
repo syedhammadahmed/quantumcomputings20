{
  "nbformat": 4,
  "nbformat_minor": 0,
  "metadata": {
    "colab": {
      "name": "Copy of hw_1_problem_2.ipynb",
      "provenance": [],
      "collapsed_sections": [],
      "include_colab_link": true
    },
    "kernelspec": {
      "name": "python3",
      "display_name": "Python 3"
    }
  },
  "cells": [
    {
      "cell_type": "markdown",
      "metadata": {
        "id": "view-in-github",
        "colab_type": "text"
      },
      "source": [
        "<a href=\"https://colab.research.google.com/github/syedhammadahmed/quantumcomputings20/blob/master/hw_2/hw_2_problem_1.ipynb\" target=\"_parent\"><img src=\"https://colab.research.google.com/assets/colab-badge.svg\" alt=\"Open In Colab\"/></a>"
      ]
    },
    {
      "cell_type": "markdown",
      "metadata": {
        "id": "sGf-nYo10Klf",
        "colab_type": "text"
      },
      "source": [
        "## HW 2 ##"
      ]
    },
    {
      "cell_type": "markdown",
      "metadata": {
        "id": "dO_S4Lfp2ikH",
        "colab_type": "text"
      },
      "source": [
        "### Problem 1 ###"
      ]
    },
    {
      "cell_type": "markdown",
      "metadata": {
        "id": "tpAherNO2k0W",
        "colab_type": "text"
      },
      "source": [
        "Implement a simulation of the Hadamard test for any qubit state |psi> and any single qubit unitary U using numpy. Observe that you have to compute how the state of the quantum register changes. It is not enough to just code up the formula for the probabilities that we derived in class.\n",
        "\n",
        "Recall that you can realize the controlled-U gate as follows: |0><0| otimes I + |1><1| otimes U. Use the numpy command np.kron for the tensor product.\n",
        "\n",
        "For |psi> use the state |0> and for the unitary U use the orthogonal matrix that describes the rotation by angle 2 pi theta, where theta [0, 1).\n",
        "\n",
        "Create a plot showing the probability Pr(0) in dependence on theta.\n"
      ]
    },
    {
      "cell_type": "code",
      "metadata": {
        "id": "pEeIAx_AZovt",
        "colab_type": "code",
        "outputId": "2433ad4f-3585-48a5-92fd-fcb3ff495693",
        "colab": {
          "base_uri": "https://localhost:8080/",
          "height": 348
        }
      },
      "source": [
        "import math\n",
        "import matplotlib.pyplot as plt \n",
        "import numpy as np\n",
        "import numpy.linalg as NPLA\n",
        "import scipy.linalg as SPLA\n",
        "\n",
        "#references: \n",
        "#[1] \n",
        "\n",
        "#  |0>    --- H --- * --- H --- M \n",
        "#                   |\n",
        "#  |psi>  ---/----- U -----------\n",
        "\n",
        "# finds tensor product of 2 matrices\n",
        "def tensor(m1, m2):\n",
        "  return np.kron(m1, m2)\n",
        "\n",
        "# generates a ket taking # of qubits and the ket value as arguments\n",
        "def getKet(qubits, value):\n",
        "  n = 2**qubits\n",
        "  vec = np.zeros(n)\n",
        "  if value>=2**qubits :\n",
        "    print(\"getKet({}, {}): Value {} cannot be represented in {} qubits!\".format(value, qubits, value, qubits))\n",
        "    return\n",
        "  vec[value] = 1\n",
        "  vec = np.reshape(vec, (n, 1))\n",
        "  return vec\n",
        "\n",
        "#initializes the state psi taking the 1D array of coefficients/prob. amplitudes as argument\n",
        "def initPsi(coeffs):\n",
        "  n = np.size(coeffs)\n",
        "  psi = np.reshape(coeffs, (n, 1))\n",
        "  return psi\n",
        "\n",
        "#initializes the 1 qubit unitary matrix - rotation of 2-pi-theta where theta is the argument\n",
        "def getUnitary(theta):\n",
        "  # unitary = np.array([[math.cos(2*math.pi*theta), -1 * math.sin(2*math.pi*theta)],\n",
        "  #                     [math.sin(2*math.pi*theta),      math.cos(2*math.pi*theta)]])\n",
        "  unitary = np.array([[round(math.cos(2*math.pi*theta),10), round(-1 * math.sin(2*math.pi*theta), 10)],\n",
        "                      [math.sin(2*math.pi*theta),      round(math.cos(2*math.pi*theta), 10)]])\n",
        "  return unitary\n",
        "\n",
        "def bra(ket):\n",
        "  (n, c) = np.shape(ket)\n",
        "  bra = np.reshape(ket, (c, n))\n",
        "  return bra\n",
        "\n",
        "def plot(thetaX, probabilityY):  \n",
        "    \n",
        "  # plotting the points  \n",
        "  plt.plot(thetaX, probabilityY) \n",
        "    \n",
        "  # naming the x axis \n",
        "  plt.xlabel('theta') \n",
        "  # naming the y axis \n",
        "  plt.ylabel('Pr(0)') \n",
        "    \n",
        "  # giving a title to my graph \n",
        "  plt.title('Pr(0) vs. theta') \n",
        "    \n",
        "  # function to show the plot \n",
        "  plt.show() \n",
        "\n",
        "# takes any psi and unitary operator and returns Pr(0)\n",
        "def simulateHadamardTest(psi, unitary, verbose):\n",
        "  ket0 = getKet(1, 0)\n",
        "  ket1 = getKet(1, 1)\n",
        "\n",
        "  if verbose: \n",
        "    print(\"applying first Hadamard:\")\n",
        "  phi = tensor((1/math.sqrt(2)*(ket0 + ket1)), psi)\n",
        "  if verbose: \n",
        "    print(phi)\n",
        "\n",
        "  if verbose: \n",
        "    print(\"applying controlled Unitary:\")\n",
        "  phi = tensor(((1/math.sqrt(2))*ket0), psi) + tensor(((1/math.sqrt(2))*ket1), np.matmul(unitary, psi)) \n",
        "  if verbose: \n",
        "    print(phi)\n",
        "\n",
        "  if verbose: \n",
        "    print(\"applying second Hadamard:\")\n",
        "  term1 = tensor(0.5 * ket0, psi + np.matmul(unitary, psi)) # for Pr(0)\n",
        "  term2 = tensor(0.5 * ket1, psi - np.matmul(unitary, psi)) # for Pr(1)\n",
        "  phi = term1 + term2\n",
        "  if verbose: \n",
        "    print(phi)\n",
        "\n",
        "  if verbose: \n",
        "    print(\"measurement:\")\n",
        "  probabilityBit = 0 # finding P(0) - set to 1 to find P(1)\n",
        "  probability = (1 - probabilityBit) * term1 + probabilityBit * term2 \n",
        "  norm = (probability)**2\n",
        "  if verbose: \n",
        "    print(norm)\n",
        "\n",
        "  return norm[probabilityBit*2] + norm[probabilityBit*2+1]\n",
        "\n",
        "#test driver code\n",
        "def main():\n",
        "  verbose = 0 # set 0 to disable printing values at each step of simulation\n",
        "  psi = initPsi([1/math.sqrt(2), 1/math.sqrt(2)])\n",
        "  print(\"psi:\\n\" , psi)\n",
        "  # print(\"U:\\n\", unitary)\n",
        "  thetaX = np.zeros(100) \n",
        "  probabilityY = np.zeros(100)\n",
        "\n",
        "  for i in range(0, 100):\n",
        "    theta = i/100.0\n",
        "    unitary = getUnitary(theta)\n",
        "    thetaX[i] = theta\n",
        "    probabilityY[i] = simulateHadamardTest(psi, unitary, verbose)\n",
        "  \n",
        "  plot(thetaX, probabilityY)\n",
        "\n",
        "if __name__ == \"__main__\":\n",
        "    main()\n",
        "\n"
      ],
      "execution_count": 111,
      "outputs": [
        {
          "output_type": "stream",
          "text": [
            "psi:\n",
            " [[0.70710678]\n",
            " [0.70710678]]\n"
          ],
          "name": "stdout"
        },
        {
          "output_type": "display_data",
          "data": {
            "image/png": "[encoded data removed]",
            "text/plain": [
              "<Figure size 432x288 with 1 Axes>"
            ]
          },
          "metadata": {
            "tags": []
          }
        }
      ]
    },
    {
      "cell_type": "markdown",
      "metadata": {
        "colab_type": "text",
        "id": "SIPdpBCH8pbl"
      },
      "source": [
        "### Problem 2 ###"
      ]
    },
    {
      "cell_type": "markdown",
      "metadata": {
        "colab_type": "text",
        "id": "RO71OTu08pbo"
      },
      "source": [
        "Implement a simulation of the SWAP test.\n",
        "\n",
        "Use |psi1> = |0> and |psi2> = cos(2 pi theta) |0> + sin(2 pi theta) |1>. \n",
        "\n",
        "Create a plot showing the probability Pr(0) in dependence on theta."
      ]
    },
    {
      "cell_type": "code",
      "metadata": {
        "colab_type": "code",
        "outputId": "d33cb436-44c4-47e6-c881-b00ad782ea72",
        "id": "_2GOPtJx8pbq",
        "colab": {
          "base_uri": "https://localhost:8080/",
          "height": 295
        }
      },
      "source": [
        "import math\n",
        "import matplotlib.pyplot as plt \n",
        "import numpy as np\n",
        "\n",
        "#references: \n",
        "#[1] https://www.geeksforgeeks.org/graph-plotting-in-python-set-1/ - to plot graph\n",
        "\n",
        "#  |0>    --- H --- * --- H --- M \n",
        "#                   |\n",
        "#  |psi>  ---/----- U -----------\n",
        "\n",
        "# finds tensor product of 2 matrices\n",
        "def tensor(m1, m2):\n",
        "  return np.kron(m1, m2)\n",
        "\n",
        "# generates a ket taking # of qubits and the ket value as arguments\n",
        "def getKet(qubits, value):\n",
        "  n = 2**qubits\n",
        "  vec = np.zeros(n)\n",
        "  if value>=2**qubits :\n",
        "    print(\"getKet({}, {}): Value {} cannot be represented in {} qubits!\".format(value, qubits, value, qubits))\n",
        "    return\n",
        "  vec[value] = 1\n",
        "  vec = np.reshape(vec, (n, 1))\n",
        "  return vec\n",
        "\n",
        "# initializes the state psi taking the 1D arrays of coefficients/prob. amplitudes of psi1 and psi2 as argument\n",
        "def initPsi(psi1, psi2):\n",
        "  n = np.size(psi1)\n",
        "  psi1 = np.reshape(psi1, (n, 1))\n",
        "  psi2 = np.reshape(psi2, (n, 1))\n",
        "  psi = tensor(getKet(1, 0), psi1)\n",
        "  psi = tensor(psi, psi2)\n",
        "  return psi\n",
        "\n",
        "# initializes the 1 qubit unitary matrix where swap gate is the argument\n",
        "def getUnitary(swap):\n",
        "  ket0 = getKet(1, 0)\n",
        "  ket1 = getKet(1, 1)\n",
        "  unitary = tensor(np.matmul(ket0, bra(ket0)), np.eye(4)) + tensor(np.matmul(ket1, bra(ket1)), swap)\n",
        "  return unitary\n",
        "\n",
        "# generates a 2 qubit swap gate\n",
        "def getSwap():\n",
        "  ket00 = getKet(2, 0)\n",
        "  ket01 = getKet(2, 1)\n",
        "  ket10 = getKet(2, 2)\n",
        "  ket11 = getKet(2, 3)\n",
        "\n",
        "  term1 = np.matmul(ket00, bra(ket00))\n",
        "  term2 = np.matmul(ket01, bra(ket01))\n",
        "  term3 = np.matmul(ket10, bra(ket10))\n",
        "  term4 = np.matmul(ket11, bra(ket11))\n",
        "  swap = term1 + term2 + term3 + term4\n",
        "\n",
        "  return swap\n",
        "\n",
        "# converts a ket to bra\n",
        "def bra(ket):\n",
        "  (n, c) = np.shape(ket)\n",
        "  bra = np.reshape(ket, (c, n))\n",
        "  return bra\n",
        "\n",
        "# plots the graph Pr(0) vs. theta - modified code from [1]\n",
        "def plot(thetaX, probabilityY):  \n",
        "  plt.plot(thetaX, probabilityY)     \n",
        "  plt.xlabel('theta') \n",
        "  plt.ylabel('Pr(0)') \n",
        "  plt.title('Pr(0) vs. theta')    \n",
        "  plt.show() \n",
        "\n",
        "def simulateSwapTest(psi1, psi2, verbose):\n",
        "  psi = initPsi(psi1, psi2)\n",
        "  if verbose:\n",
        "    print(\"psi1:\\n\" , psi)\n",
        "  swap = getSwap()\n",
        "  unitary = getUnitary(swap)\n",
        "\n",
        "  return simulateHadamardTest(psi, unitary, verbose)\n",
        "\n",
        "# takes any psi and unitary operator and returns Pr(0)\n",
        "def simulateHadamardTest(psi, unitary, verbose):\n",
        "  ket0 = getKet(1, 0)\n",
        "  ket1 = getKet(1, 1)\n",
        "\n",
        "  if verbose: \n",
        "    print(\"applying first Hadamard:\")\n",
        "  phi = tensor((1/math.sqrt(2)*(ket0 + ket1)), psi)\n",
        "  if verbose: \n",
        "    print(phi)\n",
        "\n",
        "  if verbose: \n",
        "    print(\"applying controlled Unitary:\")\n",
        "    print(\"Unitary: \")\n",
        "    print(unitary)\n",
        "  phi = tensor(((1/math.sqrt(2))*ket0), psi) + tensor(((1/math.sqrt(2))*ket1), np.matmul(unitary, psi)) \n",
        "  if verbose: \n",
        "    print(phi)\n",
        "\n",
        "  if verbose: \n",
        "    print(\"applying second Hadamard:\")\n",
        "  term1 = tensor(0.5 * ket0, psi + np.matmul(unitary, psi)) # for Pr(0)\n",
        "  term2 = tensor(0.5 * ket1, psi - np.matmul(unitary, psi)) # for Pr(1)\n",
        "  phi = term1 + term2\n",
        "  if verbose: \n",
        "    print(phi)\n",
        "\n",
        "  if verbose: \n",
        "    print(\"measurement:\")\n",
        "  probabilityBit = 0 # finding P(0) - set to 1 to find P(1)\n",
        "  probability = (1 - probabilityBit) * term1 + probabilityBit * term2 \n",
        "  norm = (probability)**2\n",
        "  if verbose: \n",
        "    print(norm)\n",
        "\n",
        "  return norm[probabilityBit*2] \n",
        "\n",
        "#test driver code\n",
        "def main():\n",
        "  verbose = 0 # set 0 to disable printing values at each step of simulation\n",
        "  thetaX = np.zeros(100) \n",
        "  probabilityY = np.zeros(100)\n",
        "\n",
        "  for i in range(0, 100): # discrete values (theta*100) to plot graph\n",
        "    theta = i/100.0\n",
        "    psi1 = [1, 0]\n",
        "    psi2 = [math.cos(2*math.pi*theta), math.sin(2*math.pi*theta)]\n",
        "\n",
        "    if verbose:\n",
        "      print(\"theta: \", theta)\n",
        "    thetaX[i] = theta\n",
        "    probabilityY[i] = simulateSwapTest(psi1, psi2, verbose)\n",
        "  \n",
        "  plot(thetaX, probabilityY)\n",
        "\n",
        "if __name__ == \"__main__\":\n",
        "    main()\n",
        "\n"
      ],
      "execution_count": 128,
      "outputs": [
        {
          "output_type": "display_data",
          "data": {
            "image/png": "[encoded data removed]",
            "text/plain": [
              "<Figure size 432x288 with 1 Axes>"
            ]
          },
          "metadata": {
            "tags": []
          }
        }
      ]
    }
  ]
}