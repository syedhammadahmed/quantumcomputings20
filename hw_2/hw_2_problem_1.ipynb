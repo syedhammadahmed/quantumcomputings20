{
  "nbformat": 4,
  "nbformat_minor": 0,
  "metadata": {
    "colab": {
      "name": "Copy of hw_1_problem_2.ipynb",
      "provenance": [],
      "collapsed_sections": [],
      "include_colab_link": true
    },
    "kernelspec": {
      "name": "python3",
      "display_name": "Python 3"
    }
  },
  "cells": [
    {
      "cell_type": "markdown",
      "metadata": {
        "id": "view-in-github",
        "colab_type": "text"
      },
      "source": [
        "<a href=\"https://colab.research.google.com/github/syedhammadahmed/quantumcomputings20/blob/master/hw_2/hw_2_problem_1.ipynb\" target=\"_parent\"><img src=\"https://colab.research.google.com/assets/colab-badge.svg\" alt=\"Open In Colab\"/></a>"
      ]
    },
    {
      "cell_type": "markdown",
      "metadata": {
        "id": "sGf-nYo10Klf",
        "colab_type": "text"
      },
      "source": [
        "## HW 2 ##"
      ]
    },
    {
      "cell_type": "markdown",
      "metadata": {
        "id": "dO_S4Lfp2ikH",
        "colab_type": "text"
      },
      "source": [
        "### Problem 1 ###"
      ]
    },
    {
      "cell_type": "markdown",
      "metadata": {
        "id": "tpAherNO2k0W",
        "colab_type": "text"
      },
      "source": [
        "Implement a simulation of the Hadamard test for any qubit state |psi> and any single qubit unitary U using numpy. Observe that you have to compute how the state of the quantum register changes. It is not enough to just code up the formula for the probabilities that we derived in class.\n",
        "\n",
        "Recall that you can realize the controlled-U gate as follows: |0><0| otimes I + |1><1| otimes U. Use the numpy command np.kron for the tensor product.\n",
        "\n",
        "For |psi> use the state |0> and for the unitary U use the orthogonal matrix that describes the rotation by angle 2 pi theta, where theta [0, 1).\n",
        "\n",
        "Create a plot showing the probability Pr(0) in dependence on theta.\n"
      ]
    },
    {
      "cell_type": "code",
      "metadata": {
        "id": "pEeIAx_AZovt",
        "colab_type": "code",
        "outputId": "6ff3d434-a55d-4854-9c45-c43a24fe2106",
        "colab": {
          "base_uri": "https://localhost:8080/",
          "height": 510
        }
      },
      "source": [
        "import math\n",
        "import matplotlib.pyplot as plt \n",
        "import numpy as np\n",
        "import numpy.linalg as NPLA\n",
        "import scipy.linalg as SPLA\n",
        "\n",
        "#references: \n",
        "#[1] \n",
        "\n",
        "#  |0>    --- H --- * --- H --- M \n",
        "#                   |\n",
        "#  |psi>  ---/----- U -----------\n",
        "\n",
        "# finds tensor product of 2 matrices\n",
        "def tensor(m1, m2):\n",
        "  return np.kron(m1, m2)\n",
        "\n",
        "# generates a ket taking # of qubits and the ket value as arguments\n",
        "def getKet(qubits, value):\n",
        "  n = 2**qubits\n",
        "  vec = np.zeros(n)\n",
        "  if value>=2**qubits :\n",
        "    print(\"getKet({}, {}): Value {} cannot be represented in {} qubits!\".format(value, qubits, value, qubits))\n",
        "    return\n",
        "  vec[value] = 1\n",
        "  vec = np.reshape(vec, (n, 1))\n",
        "  return vec\n",
        "\n",
        "#initializes the state psi taking the 1D array of coefficients/prob. amplitudes as argument\n",
        "def initPsi(coeffs):\n",
        "  n = np.size(coeffs)\n",
        "  psi = np.reshape(coeffs, (n, 1))\n",
        "  return psi\n",
        "\n",
        "#initializes the 1 qubit unitary matrix - rotation of 2-pi-theta where theta is the argument\n",
        "def getUnitary(theta):\n",
        "  # unitary = np.array([[math.cos(2*math.pi*theta), -1 * math.sin(2*math.pi*theta)],\n",
        "  #                     [math.sin(2*math.pi*theta),      math.cos(2*math.pi*theta)]])\n",
        "  unitary = np.array([[round(math.cos(2*math.pi*theta),10), round(-1 * math.sin(2*math.pi*theta), 10)],\n",
        "                      [math.sin(2*math.pi*theta),      round(math.cos(2*math.pi*theta), 10)]])\n",
        "  return unitary\n",
        "\n",
        "def bra(ket):\n",
        "  (n, c) = np.shape(ket)\n",
        "  bra = np.reshape(ket, (c, n))\n",
        "  return bra\n",
        "\n",
        "def plot(thetaX, probabilityY):  \n",
        "    \n",
        "  # plotting the points  \n",
        "  plt.plot(thetaX, probabilityY) \n",
        "    \n",
        "  # naming the x axis \n",
        "  plt.xlabel('theta') \n",
        "  # naming the y axis \n",
        "  plt.ylabel('Pr(0)') \n",
        "    \n",
        "  # giving a title to my graph \n",
        "  plt.title('Pr(0) vs. theta') \n",
        "    \n",
        "  # function to show the plot \n",
        "  plt.show() \n",
        "\n",
        "def simulateHadamardTest(psi, unitary):\n",
        "  ket0 = getKet(1, 0)\n",
        "  ket1 = getKet(1, 1)\n",
        "\n",
        "  print(\"applying first Hadamard:\")\n",
        "  phi = tensor((1/math.sqrt(2)*(ket0 + ket1)), psi)\n",
        "  print(phi)\n",
        "\n",
        "  print(\"applying controlled Unitary:\")\n",
        "  phi = tensor(((1/math.sqrt(2))*ket0), psi) + tensor(((1/math.sqrt(2))*ket1), np.matmul(unitary, psi)) \n",
        "  print(phi)\n",
        "\n",
        "  print(\"applying second Hadamard:\")\n",
        "  term1 = tensor(0.5 * ket0, psi + np.matmul(unitary, psi)) # for Pr(0)\n",
        "  term2 = tensor(0.5 * ket1, psi - np.matmul(unitary, psi)) # for Pr(1)\n",
        "  phi = term1 + term2\n",
        "  print(phi)\n",
        "\n",
        "  print(\"measurement:\")\n",
        "  probabilityBit = 0\n",
        "  probability = (1 - probabilityBit) * term1 + probabilityBit * term2 \n",
        "  norm = (probability)**2\n",
        "  print(norm)\n",
        "\n",
        "  # temp = np.matmul(bra(psi) + np.matmul(bra(psi), np.transpose(unitary)), psi + np.matmul(unitary, psi))/4\n",
        "  # print(temp)\n",
        "\n",
        "\n",
        "#test driver code\n",
        "def main():\n",
        "  psi = initPsi([1/math.sqrt(2), 1/math.sqrt(2)])\n",
        "  print(\"psi:\\n\" , psi)\n",
        "  print(\"bra(psi):\\n\" , bra(psi))\n",
        "  print(\"U:\\n\", unitary)\n",
        "  for i in range(0, 100):\n",
        "    unitary = getUnitary(math.pi/2)\n",
        "    thetaX[i], probabilityY[i] = simulateHadamardTest(psi, unitary)\n",
        "\n",
        "  \n",
        "  plot(thetaX, probabilityY)\n",
        "\n",
        "\n",
        "  # n = 2\n",
        "  # k = 3\n",
        "  # m = np.array([[1, 1],\n",
        "  #               [-1, 1]])\n",
        "  # m = np.reshape(m, (n, n))\n",
        "  # coeffs = annihilate_poly(m, k)\n",
        "  # print(\"Null Space:\")\n",
        "  # print(coeffs)\n",
        "\n",
        "if __name__ == \"__main__\":\n",
        "    main()\n",
        "\n"
      ],
      "execution_count": 77,
      "outputs": [
        {
          "output_type": "stream",
          "text": [
            "psi:\n",
            " [[0.70710678]\n",
            " [0.70710678]]\n",
            "bra(psi):\n",
            " [[0.70710678 0.70710678]]\n",
            "U:\n",
            " [[-0.90268536  0.43030122]\n",
            " [-0.43030122 -0.90268536]]\n",
            "applying first Hadamard:\n",
            "[[0.5]\n",
            " [0.5]\n",
            " [0.5]\n",
            " [0.5]]\n",
            "applying controlled Unitary:\n",
            "[[ 0.5       ]\n",
            " [ 0.5       ]\n",
            " [-0.23619207]\n",
            " [-0.66649329]]\n",
            "applying second Hadamard:\n",
            "[[ 0.18654037]\n",
            " [-0.11772853]\n",
            " [ 0.52056641]\n",
            " [ 0.82483532]]\n",
            "measurement:\n",
            "[[0.03479731]\n",
            " [0.01386001]\n",
            " [0.        ]\n",
            " [0.        ]]\n"
          ],
          "name": "stdout"
        }
      ]
    },
    {
      "cell_type": "markdown",
      "metadata": {
        "colab_type": "text",
        "id": "SIPdpBCH8pbl"
      },
      "source": [
        "### Problem 2 ###"
      ]
    },
    {
      "cell_type": "markdown",
      "metadata": {
        "colab_type": "text",
        "id": "RO71OTu08pbo"
      },
      "source": [
        "Implement a simulation of the SWAP test.\n",
        "\n",
        "Use |psi1> = |0> and |psi2> = cos(2 pi theta) |0> + sin(2 pi theta) |1>. \n",
        "\n",
        "Create a plot showing the probability Pr(0) in dependence on theta."
      ]
    },
    {
      "cell_type": "code",
      "metadata": {
        "colab_type": "code",
        "id": "_2GOPtJx8pbq",
        "colab": {}
      },
      "source": [
        ""
      ],
      "execution_count": 0,
      "outputs": []
    }
  ]
}