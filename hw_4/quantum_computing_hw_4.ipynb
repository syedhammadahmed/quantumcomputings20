{
  "nbformat": 4,
  "nbformat_minor": 0,
  "metadata": {
    "colab": {
      "name": "quantum_computing_hw_4.ipynb",
      "provenance": [],
      "collapsed_sections": [],
      "include_colab_link": true
    },
    "kernelspec": {
      "name": "python3",
      "display_name": "Python 3"
    }
  },
  "cells": [
    {
      "cell_type": "markdown",
      "metadata": {
        "id": "view-in-github",
        "colab_type": "text"
      },
      "source": [
        "<a href=\"https://colab.research.google.com/github/syedhammadahmed/quantumcomputings20/blob/master/hw_4/quantum_computing_hw_4.ipynb\" target=\"_parent\"><img src=\"https://colab.research.google.com/assets/colab-badge.svg\" alt=\"Open In Colab\"/></a>"
      ]
    },
    {
      "cell_type": "markdown",
      "metadata": {
        "id": "wf2A1lXe6JFT",
        "colab_type": "text"
      },
      "source": [
        "## HW 4"
      ]
    },
    {
      "cell_type": "markdown",
      "metadata": {
        "id": "hqRx6Utk6O2i",
        "colab_type": "text"
      },
      "source": [
        "### Problem 1 "
      ]
    },
    {
      "cell_type": "markdown",
      "metadata": {
        "id": "CAw2poAb6rci",
        "colab_type": "text"
      },
      "source": [
        "Implement Floyd's collision detection algorithm to find collisions.  It is OK if you look up the code for this on the internet.  Check out the wikipedia page [https://en.wikipedia.org/wiki/Cycle_detection](https://en.wikipedia.org/wiki/Cycle_detection).  "
      ]
    },
    {
      "cell_type": "code",
      "metadata": {
        "id": "-ltwL0_S4W5o",
        "colab_type": "code",
        "colab": {
          "base_uri": "https://localhost:8080/",
          "height": 87
        },
        "outputId": "42c84d36-54ef-4083-dee5-b2a51fef356d"
      },
      "source": [
        "# author: Syed Hammad Ahmed (5068474)\n",
        "import numpy as np\n",
        "\n",
        "\n",
        "# returns index of 1st meet-up/collision if there's cycle. returns -1\n",
        "def hasCycle(sequence):\n",
        "  firstMeet = -1\n",
        "  n = np.size(sequence)\n",
        "  tortoise = 0\n",
        "  hare = 0\n",
        "  meet = False\n",
        "  while tortoise < n and hare < n and meet == False:\n",
        "    tortoise+=1\n",
        "    hare+=2\n",
        "    if(sequence[tortoise] == sequence[hare]):\n",
        "      meet = True\n",
        "  if meet:\n",
        "    firstMeet = tortoise\n",
        "  return firstMeet\n",
        "\n",
        "# returns the cycle start position.    \n",
        "def findCycleStart(sequence, firstMeet):\n",
        "  cycleStart = 0\n",
        "  n = np.size(sequence)\n",
        "  tortoise = 0\n",
        "  hare = firstMeet\n",
        "  meet = False\n",
        "  while tortoise < n and hare < n and meet == False:\n",
        "    tortoise+=1\n",
        "    hare+=1\n",
        "    if(sequence[tortoise] == sequence[hare]):\n",
        "      meet = True\n",
        "      cycleStart = tortoise\n",
        "  return cycleStart\n",
        "\n",
        "# returns the cycle start position.    \n",
        "def findCycleLength(sequence, cycleStart):\n",
        "  n = np.size(sequence)\n",
        "  tortoise = cycleStart\n",
        "  hare = cycleStart\n",
        "  meet = False\n",
        "  cycleLength = 0\n",
        "  while tortoise < n and hare < n and meet == False:\n",
        "    cycleLength += 1\n",
        "    hare += 1\n",
        "    if(sequence[tortoise] == sequence[hare]):\n",
        "      meet = True\n",
        "  return cycleLength\n",
        "\n",
        "#test driver code \n",
        "def main():\n",
        "  sequence = np.array([1, 2, 3, 4, 5, 6, 7, 8, 4, 5, 6, 7, 8]) \n",
        "  firstMeet = hasCycle(sequence)\n",
        "  cycleStart = findCycleStart(sequence, firstMeet)\n",
        "  cycleLength = findCycleLength(sequence, cycleStart)\n",
        "  print(sequence)\n",
        "  print(\"first collision at x:{}, f(x):{}\".format(firstMeet, sequence[firstMeet]))\n",
        "  print(\"cycle start at x:{}, f(x):{}\".format(cycleStart, sequence[cycleStart]))\n",
        "  print(\"cycle length:{}\".format(cycleLength))\n",
        "\n",
        "\n",
        "if __name__ == \"__main__\":\n",
        "    main()"
      ],
      "execution_count": 19,
      "outputs": [
        {
          "output_type": "stream",
          "text": [
            "[1 2 3 4 5 6 7 8 4 5 6 7 8]\n",
            "first collision at x:5, f(x):6\n",
            "cycle start at x:3, f(x):4\n",
            "cycle length:5\n"
          ],
          "name": "stdout"
        }
      ]
    },
    {
      "cell_type": "markdown",
      "metadata": {
        "id": "YGvKfv8Q6_La",
        "colab_type": "text"
      },
      "source": [
        "### Problem 2"
      ]
    },
    {
      "cell_type": "code",
      "metadata": {
        "id": "I3930qUK7Z_i",
        "colab_type": "code",
        "colab": {}
      },
      "source": [
        "# implement the function find_order\n",
        "\n",
        "# N=15\n",
        "# a=2\n",
        "# the order of 2 mod 15 is r=4\n",
        "# exponents 0 -> 1 -> 2 -> 3 -> 4=0 mod 4\n",
        "# powers of a: 1 -> 2 -> 4 -> 8 -> 16=1 mod 15\n",
        "def find_order(a, N):\n",
        "  # using the method from problem 1 \n",
        "  # compute the order r of a module N\n",
        "  \n",
        "  return r"
      ],
      "execution_count": 0,
      "outputs": []
    },
    {
      "cell_type": "markdown",
      "metadata": {
        "id": "b237qgr27rxx",
        "colab_type": "text"
      },
      "source": [
        "### Problem 3"
      ]
    },
    {
      "cell_type": "code",
      "metadata": {
        "id": "ZObTYzc-7toX",
        "colab_type": "code",
        "colab": {}
      },
      "source": [
        "# implement the function factor\n",
        "\n",
        "def factor(N):\n",
        "  # choose a uniformly at random in {2,...,N-1}\n",
        "  # compute the order r of a module N using the method from problem 2\n",
        "  # if r odd, chose different a\n",
        "  # if r even, compute f = gcd(a**(r/2 -1), N))\n",
        "  # if f is a trivial factor, choose different a\n",
        "\n",
        "  return f"
      ],
      "execution_count": 0,
      "outputs": []
    }
  ]
}