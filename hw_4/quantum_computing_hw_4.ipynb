{
  "nbformat": 4,
  "nbformat_minor": 0,
  "metadata": {
    "colab": {
      "name": "quantum_computing_hw_4.ipynb",
      "provenance": [],
      "collapsed_sections": [],
      "include_colab_link": true
    },
    "kernelspec": {
      "name": "python3",
      "display_name": "Python 3"
    }
  },
  "cells": [
    {
      "cell_type": "markdown",
      "metadata": {
        "id": "view-in-github",
        "colab_type": "text"
      },
      "source": [
        "<a href=\"https://colab.research.google.com/github/syedhammadahmed/quantumcomputings20/blob/master/hw_4/quantum_computing_hw_4.ipynb\" target=\"_parent\"><img src=\"https://colab.research.google.com/assets/colab-badge.svg\" alt=\"Open In Colab\"/></a>"
      ]
    },
    {
      "cell_type": "markdown",
      "metadata": {
        "id": "wf2A1lXe6JFT",
        "colab_type": "text"
      },
      "source": [
        "## HW 4"
      ]
    },
    {
      "cell_type": "markdown",
      "metadata": {
        "id": "hqRx6Utk6O2i",
        "colab_type": "text"
      },
      "source": [
        "### Problem 1 "
      ]
    },
    {
      "cell_type": "markdown",
      "metadata": {
        "id": "CAw2poAb6rci",
        "colab_type": "text"
      },
      "source": [
        "Implement Floyd's collision detection algorithm to find collisions.  It is OK if you look up the code for this on the internet.  Check out the wikipedia page [https://en.wikipedia.org/wiki/Cycle_detection](https://en.wikipedia.org/wiki/Cycle_detection).  "
      ]
    },
    {
      "cell_type": "code",
      "metadata": {
        "id": "-ltwL0_S4W5o",
        "colab_type": "code",
        "colab": {}
      },
      "source": [
        "# author: Syed Hammad Ahmed (5068474)\n",
        "import numpy as np\n",
        "\n",
        "verbose1 = 0\n",
        "\n",
        "# returns index of 1st meet-up/collision if there's cycle. returns -1\n",
        "def hasCycle(sequence):\n",
        "  firstMeet = -1\n",
        "  n = np.size(sequence)\n",
        "  tortoise = 0\n",
        "  hare = 0\n",
        "  meet = False\n",
        "  while tortoise + 1 < n and hare + 2 < n and meet == False:\n",
        "    tortoise+=1\n",
        "    hare+=2\n",
        "    if(sequence[tortoise] == sequence[hare]):\n",
        "      meet = True\n",
        "  if meet:\n",
        "    firstMeet = tortoise\n",
        "  return firstMeet\n",
        "\n",
        "# returns the cycle start position.    \n",
        "def findCycleStart(sequence, firstMeet):\n",
        "  cycleStart = 0\n",
        "  n = np.size(sequence)\n",
        "  tortoise = 0\n",
        "  hare = firstMeet\n",
        "  meet = False\n",
        "  while tortoise + 1 < n and hare + 1 < n and meet == False:\n",
        "    tortoise+=1\n",
        "    hare+=1\n",
        "    if(sequence[tortoise] == sequence[hare]):\n",
        "      meet = True\n",
        "      cycleStart = tortoise\n",
        "  return cycleStart\n",
        "\n",
        "# returns the cycle start position.    \n",
        "def findCycleLength(sequence, cycleStart):\n",
        "  n = np.size(sequence)\n",
        "  tortoise = cycleStart\n",
        "  hare = cycleStart\n",
        "  meet = False\n",
        "  cycleLength = 0\n",
        "  while tortoise < n and hare < n and hare + 1 < n and meet == False:\n",
        "    cycleLength += 1\n",
        "    hare += 1\n",
        "    if(sequence[tortoise] == sequence[hare]):\n",
        "      meet = True\n",
        "  return cycleLength\n",
        "\n",
        "def findCycleStartAndLength(sequence):\n",
        "  firstMeet = hasCycle(sequence)\n",
        "  cycleStart = findCycleStart(sequence, firstMeet)\n",
        "  cycleLength = findCycleLength(sequence, cycleStart)\n",
        "  firstMeet = hasCycle(sequence)\n",
        "  cycleStart = findCycleStart(sequence, firstMeet)\n",
        "  cycleLength = findCycleLength(sequence, cycleStart)\n",
        "  if verbose1:\n",
        "    print(sequence)\n",
        "    print(\"first collision at x:{}, f(x):{}\".format(firstMeet, sequence[firstMeet]))\n",
        "    print(\"cycle start at x:{}, f(x):{}\".format(cycleStart, sequence[cycleStart]))\n",
        "    print(\"cycle length:{}\".format(cycleLength))\n",
        "\n",
        "  return cycleStart, cycleLength\n",
        "\n",
        "#test driver code \n",
        "# def main():\n",
        "#   sequence = np.array([1, 2, 3, 4, 5, 6, 7, 8, 4, 5, 6, 7, 8]) \n",
        "#   cycleStart, cycleLength = findCycleStartAndLength(sequence)\n",
        "\n",
        "\n",
        "# if __name__ == \"__main__\":\n",
        "#     main()"
      ],
      "execution_count": 0,
      "outputs": []
    },
    {
      "cell_type": "markdown",
      "metadata": {
        "id": "YGvKfv8Q6_La",
        "colab_type": "text"
      },
      "source": [
        "### Problem 2"
      ]
    },
    {
      "cell_type": "code",
      "metadata": {
        "id": "I3930qUK7Z_i",
        "colab_type": "code",
        "colab": {}
      },
      "source": [
        "# implement the function find_order\n",
        "\n",
        "verbose2 = 0\n",
        "# N=15\n",
        "# a=2\n",
        "# the order of 2 mod 15 is r=4\n",
        "# exponents 0 -> 1 -> 2 -> 3 -> 4=0 mod 4\n",
        "# powers of a: 1 -> 2 -> 4 -> 8 -> 16=1 mod 15\n",
        "# returns the order r of a modulo N\n",
        "def find_order(a, N):\n",
        "  sequence = np.zeros(N)\n",
        "  for i in range(N):\n",
        "    sequence[i] = a**i % N\n",
        "  cycleStart, r = findCycleStartAndLength(sequence)\n",
        "\n",
        "  return r\n",
        "\n",
        "#test driver code \n",
        "# def main():\n",
        "#   a = 2\n",
        "#   N = 15\n",
        "#   r = find_order(a, N)  \n",
        "#   print(\"order r = {}\".format(r))\n",
        "\n",
        "# if __name__ == \"__main__\":\n",
        "#     main()  "
      ],
      "execution_count": 0,
      "outputs": []
    },
    {
      "cell_type": "markdown",
      "metadata": {
        "id": "b237qgr27rxx",
        "colab_type": "text"
      },
      "source": [
        "### Problem 3"
      ]
    },
    {
      "cell_type": "code",
      "metadata": {
        "id": "ZObTYzc-7toX",
        "colab_type": "code",
        "colab": {
          "base_uri": "https://localhost:8080/",
          "height": 105
        },
        "outputId": "c8f3628e-0a1c-4ea6-c203-bece5ae5e905"
      },
      "source": [
        "import random\n",
        "import math\n",
        "# implement the function factor\n",
        "\n",
        "verbose3 = 1\n",
        "\n",
        "def factor(N):\n",
        "  # choose a uniformly at random in {2,...,N-1}\n",
        "  # compute the order r of a module N using the method from problem 2\n",
        "  # if r odd, chose different a\n",
        "  # if r even, compute f = gcd(a**(r/2 -1), N)\n",
        "  # if f is a trivial factor, choose different a\n",
        "  trivialFactor = True\n",
        "  isROdd = True\n",
        "  while trivialFactor or isROdd:\n",
        "    a = np.random.randint(low=2, high=N)\n",
        "    r = find_order(a, N)  \n",
        "    if (r % 2 == 0):\n",
        "      isROdd = False\n",
        "      f = math.gcd(a**(r//2 -1), N)\n",
        "      if f != 1:\n",
        "        trivialFactor = False\n",
        "  if verbose3:\n",
        "    print(\"a =\", a)\n",
        "    print(\"N =\", N)\n",
        "    print(\"r =\", r)\n",
        "    print(\"f =\", f)\n",
        "    print()\n",
        "  return f\n",
        "\n",
        "\n",
        "#test driver code \n",
        "def main():\n",
        "  N = 15\n",
        "  f = factor(N)\n",
        "\n",
        "if __name__ == \"__main__\":\n",
        "    main()  "
      ],
      "execution_count": 4,
      "outputs": [
        {
          "output_type": "stream",
          "text": [
            "a = 3\n",
            "N = 15\n",
            "r = 4\n",
            "f = 3\n",
            "\n"
          ],
          "name": "stdout"
        }
      ]
    }
  ]
}